{
  "nbformat": 4,
  "nbformat_minor": 0,
  "metadata": {
    "colab": {
      "name": "SVM_Landsat.ipynb",
      "provenance": [],
      "include_colab_link": true
    },
    "kernelspec": {
      "name": "python3",
      "display_name": "Python 3"
    }
  },
  "cells": [
    {
      "cell_type": "markdown",
      "metadata": {
        "id": "view-in-github",
        "colab_type": "text"
      },
      "source": [
        "<a href=\"https://colab.research.google.com/github/joostnjns/Google-Earth-Engine/blob/master/SVM_Landsat.ipynb\" target=\"_parent\"><img src=\"https://colab.research.google.com/assets/colab-badge.svg\" alt=\"Open In Colab\"/></a>"
      ]
    },
    {
      "cell_type": "code",
      "metadata": {
        "id": "kC7hoHfD-aI1",
        "colab_type": "code",
        "colab": {}
      },
      "source": [
        "\n",
        "// Query satellite image  26.996813, 14.395989\n",
        "var aoi = ee.Geometry.Rectangle([14.38, 26.98, 14.49, 27.07]);\n",
        "var collection = ee.ImageCollection('LANDSAT/LT05/C01/T1_SR').filterDate('1995-01-01', '1995-01-30').filterBounds(aoi).filterMetadata('IMAGE_QUALITY', 'equals', 9).select(['B1', 'B2', 'B3', 'B4', 'B5', 'B6', 'B7']);\n",
        "\n",
        "//var rgbImage = collection.sort('CLOUD_COVER').first().select(['B3', 'B2', 'B1']);\n",
        "var image_ = collection.sort('CLOUD_COVER').first();\n",
        "\n",
        "// Define the visualization parameters.\n",
        "var vizParams = {\n",
        "  bands: ['B3', 'B2', 'B1'],\n",
        "  min: 0,\n",
        "  max: 5000,\n",
        "  gamma: [0.95, 1.1, 1]\n",
        "};\n",
        "\n",
        "// Visualize satellite image              \n",
        "Map.setCenter(14.42, 27.04, 13);\n",
        "Map.addLayer(image_.clip(aoi), vizParams, 'Landsat 5');\n",
        "\n",
        "// Load training data\n",
        "var trainData = ee.FeatureCollection('users/jneujens/trainData');\n",
        "//Map.addLayer(trainData);\n",
        "\n",
        "// Property containing land cover labels\n",
        "var label = 'classname';\n",
        "\n",
        "// Get training from polygons on image\n",
        "var training = image_.sampleRegions({\n",
        "  collection: trainData,\n",
        "  properties: ['classvalue'],\n",
        "  scale: 30\n",
        "});\n",
        "\n",
        "// Create an SVM classifier with custom parameters.\n",
        "var classifier = ee.Classifier.svm({\n",
        "  decisionProcedure: 'Voting',\n",
        "  svmType: 'C_SVC',\n",
        "  kernelType: 'LINEAR',\n",
        "  cost: 0.1\n",
        "});\n",
        "\n",
        "// Train the classifier.\n",
        "var trained = classifier.train(training, 'classvalue', ['B1', 'B2', 'B3', 'B4', 'B5', 'B6', 'B7']);\n",
        "\n",
        "// Classify the image.\n",
        "var classified = image_.clip(aoi).classify(trained);\n",
        "\n",
        "// Display result\n",
        "Map.addLayer(classified,\n",
        "             {min: 0, max: 2, palette: ['grey', 'green','red']},\n",
        "             'LC classification');\n"
      ],
      "execution_count": 0,
      "outputs": []
    }
  ]
}
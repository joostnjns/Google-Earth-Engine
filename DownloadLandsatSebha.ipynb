{
  "nbformat": 4,
  "nbformat_minor": 0,
  "metadata": {
    "colab": {
      "name": "DownloadLandsatSebha.ipynb",
      "provenance": [],
      "collapsed_sections": [],
      "include_colab_link": true
    },
    "kernelspec": {
      "name": "python3",
      "display_name": "Python 3"
    }
  },
  "cells": [
    {
      "cell_type": "markdown",
      "metadata": {
        "id": "view-in-github",
        "colab_type": "text"
      },
      "source": [
        "<a href=\"https://colab.research.google.com/github/joostnjns/Google-Earth-Engine/blob/master/DownloadLandsatSebha.ipynb\" target=\"_parent\"><img src=\"https://colab.research.google.com/assets/colab-badge.svg\" alt=\"Open In Colab\"/></a>"
      ]
    },
    {
      "cell_type": "markdown",
      "metadata": {
        "id": "pyPqit_gl_N6",
        "colab_type": "text"
      },
      "source": [
        "## **Script using the Google Earth Engine API to download Landsat imagery.**"
      ]
    },
    {
      "cell_type": "code",
      "metadata": {
        "id": "MMAWwE26l01K",
        "colab_type": "code",
        "outputId": "3d5f4f58-181d-4ca3-cc1d-207213b30edd",
        "colab": {
          "base_uri": "https://localhost:8080/",
          "height": 598
        }
      },
      "source": [
        "# Run only at first run: install python API\n",
        "!pip install earthengine-api"
      ],
      "execution_count": 0,
      "outputs": [
        {
          "output_type": "stream",
          "text": [
            "Requirement already satisfied: earthengine-api in /usr/local/lib/python3.6/dist-packages (0.1.204)\n",
            "Requirement already satisfied: google-cloud-storage in /usr/local/lib/python3.6/dist-packages (from earthengine-api) (1.16.2)\n",
            "Requirement already satisfied: httplib2<1dev,>=0.9.2 in /usr/local/lib/python3.6/dist-packages (from earthengine-api) (0.11.3)\n",
            "Requirement already satisfied: google-auth-httplib2>=0.0.3 in /usr/local/lib/python3.6/dist-packages (from earthengine-api) (0.0.3)\n",
            "Requirement already satisfied: future in /usr/local/lib/python3.6/dist-packages (from earthengine-api) (0.16.0)\n",
            "Requirement already satisfied: google-api-python-client in /usr/local/lib/python3.6/dist-packages (from earthengine-api) (1.7.11)\n",
            "Requirement already satisfied: google-auth>=1.4.1 in /usr/local/lib/python3.6/dist-packages (from earthengine-api) (1.4.2)\n",
            "Requirement already satisfied: six in /usr/local/lib/python3.6/dist-packages (from earthengine-api) (1.12.0)\n",
            "Requirement already satisfied: google-resumable-media<0.5.0dev,>=0.3.1 in /usr/local/lib/python3.6/dist-packages (from google-cloud-storage->earthengine-api) (0.4.1)\n",
            "Requirement already satisfied: google-cloud-core<2.0dev,>=1.0.0 in /usr/local/lib/python3.6/dist-packages (from google-cloud-storage->earthengine-api) (1.0.3)\n",
            "Requirement already satisfied: uritemplate<4dev,>=3.0.0 in /usr/local/lib/python3.6/dist-packages (from google-api-python-client->earthengine-api) (3.0.0)\n",
            "Requirement already satisfied: pyasn1-modules>=0.2.1 in /usr/local/lib/python3.6/dist-packages (from google-auth>=1.4.1->earthengine-api) (0.2.7)\n",
            "Requirement already satisfied: rsa>=3.1.4 in /usr/local/lib/python3.6/dist-packages (from google-auth>=1.4.1->earthengine-api) (4.0)\n",
            "Requirement already satisfied: cachetools>=2.0.0 in /usr/local/lib/python3.6/dist-packages (from google-auth>=1.4.1->earthengine-api) (3.1.1)\n",
            "Requirement already satisfied: google-api-core<2.0.0dev,>=1.14.0 in /usr/local/lib/python3.6/dist-packages (from google-cloud-core<2.0dev,>=1.0.0->google-cloud-storage->earthengine-api) (1.14.3)\n",
            "Requirement already satisfied: pyasn1<0.5.0,>=0.4.6 in /usr/local/lib/python3.6/dist-packages (from pyasn1-modules>=0.2.1->google-auth>=1.4.1->earthengine-api) (0.4.7)\n",
            "Requirement already satisfied: setuptools>=34.0.0 in /usr/local/lib/python3.6/dist-packages (from google-api-core<2.0.0dev,>=1.14.0->google-cloud-core<2.0dev,>=1.0.0->google-cloud-storage->earthengine-api) (41.4.0)\n",
            "Requirement already satisfied: protobuf>=3.4.0 in /usr/local/lib/python3.6/dist-packages (from google-api-core<2.0.0dev,>=1.14.0->google-cloud-core<2.0dev,>=1.0.0->google-cloud-storage->earthengine-api) (3.10.0)\n",
            "Requirement already satisfied: pytz in /usr/local/lib/python3.6/dist-packages (from google-api-core<2.0.0dev,>=1.14.0->google-cloud-core<2.0dev,>=1.0.0->google-cloud-storage->earthengine-api) (2018.9)\n",
            "Requirement already satisfied: requests<3.0.0dev,>=2.18.0 in /usr/local/lib/python3.6/dist-packages (from google-api-core<2.0.0dev,>=1.14.0->google-cloud-core<2.0dev,>=1.0.0->google-cloud-storage->earthengine-api) (2.21.0)\n",
            "Requirement already satisfied: googleapis-common-protos<2.0dev,>=1.6.0 in /usr/local/lib/python3.6/dist-packages (from google-api-core<2.0.0dev,>=1.14.0->google-cloud-core<2.0dev,>=1.0.0->google-cloud-storage->earthengine-api) (1.6.0)\n",
            "Requirement already satisfied: idna<2.9,>=2.5 in /usr/local/lib/python3.6/dist-packages (from requests<3.0.0dev,>=2.18.0->google-api-core<2.0.0dev,>=1.14.0->google-cloud-core<2.0dev,>=1.0.0->google-cloud-storage->earthengine-api) (2.8)\n",
            "Requirement already satisfied: chardet<3.1.0,>=3.0.2 in /usr/local/lib/python3.6/dist-packages (from requests<3.0.0dev,>=2.18.0->google-api-core<2.0.0dev,>=1.14.0->google-cloud-core<2.0dev,>=1.0.0->google-cloud-storage->earthengine-api) (3.0.4)\n",
            "Requirement already satisfied: certifi>=2017.4.17 in /usr/local/lib/python3.6/dist-packages (from requests<3.0.0dev,>=2.18.0->google-api-core<2.0.0dev,>=1.14.0->google-cloud-core<2.0dev,>=1.0.0->google-cloud-storage->earthengine-api) (2019.9.11)\n",
            "Requirement already satisfied: urllib3<1.25,>=1.21.1 in /usr/local/lib/python3.6/dist-packages (from requests<3.0.0dev,>=2.18.0->google-api-core<2.0.0dev,>=1.14.0->google-cloud-core<2.0dev,>=1.0.0->google-cloud-storage->earthengine-api) (1.24.3)\n",
            "To authorize access needed by Earth Engine, open the following URL in a web browser and follow the instructions. If the web browser does not start automatically, please manually browse the URL below.\n",
            "\n",
            "    https://accounts.google.com/o/oauth2/auth?client_id=517222506229-vsmmajv00ul0bs7p89v5m89qs8eb9359.apps.googleusercontent.com&scope=https%3A%2F%2Fwww.googleapis.com%2Fauth%2Fearthengine+https%3A%2F%2Fwww.googleapis.com%2Fauth%2Fdevstorage.full_control&redirect_uri=urn%3Aietf%3Awg%3Aoauth%3A2.0%3Aoob&response_type=code\n",
            "\n",
            "The authorization workflow will generate a code, which you should paste in the box below. \n",
            "Enter verification code: 4/sgECD9CBvTwfNXbmYahxnXQGUxVqthMEEXzURl7Mql3Jb2exuwwGB3M\n",
            "\n",
            "Successfully saved authorization token.\n"
          ],
          "name": "stdout"
        }
      ]
    },
    {
      "cell_type": "code",
      "metadata": {
        "id": "TTUR1SW4FrNu",
        "colab_type": "code",
        "colab": {
          "base_uri": "https://localhost:8080/",
          "height": 173
        },
        "outputId": "6fbd7957-e272-469f-e3d8-795262fc7cf5"
      },
      "source": [
        "import ee\n",
        "ee.Authenticate()\n",
        "\n",
        "# Get other packages\n",
        "import matplotlib.pyplot as plt\n",
        "from IPython.display import Image\n",
        "import pprint\n",
        "import folium\n",
        "import time"
      ],
      "execution_count": 1,
      "outputs": [
        {
          "output_type": "stream",
          "text": [
            "To authorize access needed by Earth Engine, open the following URL in a web browser and follow the instructions. If the web browser does not start automatically, please manually browse the URL below.\n",
            "\n",
            "    https://accounts.google.com/o/oauth2/auth?client_id=517222506229-vsmmajv00ul0bs7p89v5m89qs8eb9359.apps.googleusercontent.com&scope=https%3A%2F%2Fwww.googleapis.com%2Fauth%2Fearthengine+https%3A%2F%2Fwww.googleapis.com%2Fauth%2Fdevstorage.full_control&redirect_uri=urn%3Aietf%3Awg%3Aoauth%3A2.0%3Aoob&response_type=code\n",
            "\n",
            "The authorization workflow will generate a code, which you should paste in the box below. \n",
            "Enter verification code: 4/swGhyI10Zg61ZVmwSaoWf6B7HrTECh26JtmebPdsA6d8a0moYACqsTo\n",
            "\n",
            "Successfully saved authorization token.\n"
          ],
          "name": "stdout"
        }
      ]
    },
    {
      "cell_type": "code",
      "metadata": {
        "id": "AFSiSqVGGb6X",
        "colab_type": "code",
        "colab": {}
      },
      "source": [
        "# Download a Landsat image based on some parameters\n",
        "\n",
        "# LANDSAT/LT05/C01/T1_SR meaning:\n",
        "# Look into the ImageCollections of Landsat. \n",
        "# In our case use Landsat 5 sensors. \n",
        "# USGS processes them in 'collections', with collection 1 (C01) as the only option.\n",
        "# To get the surface reflectane datasat for collection 1, use T1_SR (tier 1)"
      ],
      "execution_count": 0,
      "outputs": []
    },
    {
      "cell_type": "code",
      "metadata": {
        "id": "AqulpatXnIny",
        "colab_type": "code",
        "colab": {}
      },
      "source": [
        "\n",
        "                      "
      ],
      "execution_count": 0,
      "outputs": []
    },
    {
      "cell_type": "code",
      "metadata": {
        "id": "gcQVDkgKrPvd",
        "colab_type": "code",
        "colab": {}
      },
      "source": [
        "# Set AOI for imagery\n",
        "aoi = ee.Geometry.Rectangle([14.24, 26.92, 14.58, 27.14])\n",
        "\n",
        "# Create scene from image with least cloud cover in collection\n",
        "collection = ee.ImageCollection('LANDSAT/LT05/C01/T1_SR').filterDate('1995-01-10', '1995-01-30').filterBounds(aoi).filterMetadata('IMAGE_QUALITY', 'equals', 9).filterMetadata('CLOUD_COVER_LAND', 'equals', 0)  # Collection containing potentially multiple images\n",
        "RGBscene = collection.sort('CLOUD COVER').first().select(['B4', 'B3', 'B2'])  # RGB image\n",
        "fullscene = collection.sort('CLOUD COVER').first().select(['B1', 'B2', 'B3', 'B4', 'B5', 'B6', 'B7'])  # all bands\n",
        "atm_opac = collection.sort('CLOUD COVER').first().select(['sr_atmos_opacity'])  # atmospheric opacity\n",
        "sr_cloud_qa = collection.sort('CLOUD COVER').first().select(['sr_cloud_qa'])  # surface reflectance cloud quality: indicating which pixels might be affected by instrument artifacts or subject to cloud contamination\n",
        "\n",
        "#RGBsceneUrl = RGBscene.getThumbUrl()\n",
        "#sceneUrl = fullscene.getThumbUrl({'min': 0.0, 'max': 0.3})"
      ],
      "execution_count": 0,
      "outputs": []
    },
    {
      "cell_type": "code",
      "metadata": {
        "id": "3bPjnADwE9bh",
        "colab_type": "code",
        "colab": {
          "base_uri": "https://localhost:8080/",
          "height": 307
        },
        "outputId": "fe4bf864-676c-4d64-8739-79412fd7c6c0"
      },
      "source": [
        "test = fullscene.getThumbUrl(fullscene)\n"
      ],
      "execution_count": 184,
      "outputs": [
        {
          "output_type": "error",
          "ename": "TypeError",
          "evalue": "ignored",
          "traceback": [
            "\u001b[0;31m---------------------------------------------------------------------------\u001b[0m",
            "\u001b[0;31mTypeError\u001b[0m                                 Traceback (most recent call last)",
            "\u001b[0;32m<ipython-input-184-fcf53f4b3252>\u001b[0m in \u001b[0;36m<module>\u001b[0;34m()\u001b[0m\n\u001b[0;32m----> 1\u001b[0;31m \u001b[0mtest\u001b[0m \u001b[0;34m=\u001b[0m \u001b[0mfullscene\u001b[0m\u001b[0;34m.\u001b[0m\u001b[0mgetThumbUrl\u001b[0m\u001b[0;34m(\u001b[0m\u001b[0mfullscene\u001b[0m\u001b[0;34m)\u001b[0m\u001b[0;34m\u001b[0m\u001b[0;34m\u001b[0m\u001b[0m\n\u001b[0m",
            "\u001b[0;32m/usr/local/lib/python3.6/dist-packages/ee/deprecation.py\u001b[0m in \u001b[0;36mWrapper\u001b[0;34m(*args, **kwargs)\u001b[0m\n\u001b[1;32m     30\u001b[0m           \u001b[0mfilename\u001b[0m\u001b[0;34m=\u001b[0m\u001b[0mfunc\u001b[0m\u001b[0;34m.\u001b[0m\u001b[0m__code__\u001b[0m\u001b[0;34m.\u001b[0m\u001b[0mco_filename\u001b[0m\u001b[0;34m,\u001b[0m\u001b[0;34m\u001b[0m\u001b[0;34m\u001b[0m\u001b[0m\n\u001b[1;32m     31\u001b[0m           lineno=func.__code__.co_firstlineno + 1)\n\u001b[0;32m---> 32\u001b[0;31m       \u001b[0;32mreturn\u001b[0m \u001b[0mfunc\u001b[0m\u001b[0;34m(\u001b[0m\u001b[0;34m*\u001b[0m\u001b[0margs\u001b[0m\u001b[0;34m,\u001b[0m \u001b[0;34m**\u001b[0m\u001b[0mkwargs\u001b[0m\u001b[0;34m)\u001b[0m\u001b[0;34m\u001b[0m\u001b[0;34m\u001b[0m\u001b[0m\n\u001b[0m\u001b[1;32m     33\u001b[0m     \u001b[0mdeprecation_message\u001b[0m \u001b[0;34m=\u001b[0m \u001b[0;34m'\\nDEPRECATED: '\u001b[0m \u001b[0;34m+\u001b[0m \u001b[0mmessage\u001b[0m\u001b[0;34m\u001b[0m\u001b[0;34m\u001b[0m\u001b[0m\n\u001b[1;32m     34\u001b[0m     \u001b[0;32mtry\u001b[0m\u001b[0;34m:\u001b[0m\u001b[0;34m\u001b[0m\u001b[0;34m\u001b[0m\u001b[0m\n",
            "\u001b[0;32m/usr/local/lib/python3.6/dist-packages/ee/image.py\u001b[0m in \u001b[0;36mgetThumbURL\u001b[0;34m(self, params)\u001b[0m\n\u001b[1;32m    420\u001b[0m     \u001b[0;32mif\u001b[0m \u001b[0mdata\u001b[0m\u001b[0;34m.\u001b[0m\u001b[0m_use_cloud_api\u001b[0m\u001b[0;34m:\u001b[0m  \u001b[0;31m# pylint: disable=protected-access\u001b[0m\u001b[0;34m\u001b[0m\u001b[0;34m\u001b[0m\u001b[0m\n\u001b[1;32m    421\u001b[0m       \u001b[0;32mreturn\u001b[0m \u001b[0mdata\u001b[0m\u001b[0;34m.\u001b[0m\u001b[0mmakeThumbUrl\u001b[0m\u001b[0;34m(\u001b[0m\u001b[0mself\u001b[0m\u001b[0;34m.\u001b[0m\u001b[0mgetThumbId\u001b[0m\u001b[0;34m(\u001b[0m\u001b[0mparams\u001b[0m\u001b[0;34m)\u001b[0m\u001b[0;34m)\u001b[0m\u001b[0;34m\u001b[0m\u001b[0;34m\u001b[0m\u001b[0m\n\u001b[0;32m--> 422\u001b[0;31m     \u001b[0mimage\u001b[0m\u001b[0;34m,\u001b[0m \u001b[0mparams\u001b[0m \u001b[0;34m=\u001b[0m \u001b[0mself\u001b[0m\u001b[0;34m.\u001b[0m\u001b[0m_apply_visualization\u001b[0m\u001b[0;34m(\u001b[0m\u001b[0mparams\u001b[0m\u001b[0;34m)\u001b[0m\u001b[0;34m\u001b[0m\u001b[0;34m\u001b[0m\u001b[0m\n\u001b[0m\u001b[1;32m    423\u001b[0m     \u001b[0mparams\u001b[0m\u001b[0;34m[\u001b[0m\u001b[0;34m'image'\u001b[0m\u001b[0;34m]\u001b[0m \u001b[0;34m=\u001b[0m \u001b[0mimage\u001b[0m\u001b[0;34m\u001b[0m\u001b[0;34m\u001b[0m\u001b[0m\n\u001b[1;32m    424\u001b[0m     \u001b[0;32mif\u001b[0m \u001b[0;34m'region'\u001b[0m \u001b[0;32min\u001b[0m \u001b[0mparams\u001b[0m\u001b[0;34m:\u001b[0m\u001b[0;34m\u001b[0m\u001b[0;34m\u001b[0m\u001b[0m\n",
            "\u001b[0;32m/usr/local/lib/python3.6/dist-packages/ee/image.py\u001b[0m in \u001b[0;36m_apply_visualization\u001b[0;34m(self, params)\u001b[0m\n\u001b[1;32m    299\u001b[0m     \u001b[0mvis_params\u001b[0m \u001b[0;34m=\u001b[0m \u001b[0;34m{\u001b[0m\u001b[0;34m}\u001b[0m\u001b[0;34m\u001b[0m\u001b[0;34m\u001b[0m\u001b[0m\n\u001b[1;32m    300\u001b[0m     \u001b[0;32mif\u001b[0m \u001b[0mparams\u001b[0m\u001b[0;34m:\u001b[0m\u001b[0;34m\u001b[0m\u001b[0;34m\u001b[0m\u001b[0m\n\u001b[0;32m--> 301\u001b[0;31m       \u001b[0;32mfor\u001b[0m \u001b[0mkey\u001b[0m \u001b[0;32min\u001b[0m \u001b[0mparams\u001b[0m\u001b[0;34m:\u001b[0m\u001b[0;34m\u001b[0m\u001b[0;34m\u001b[0m\u001b[0m\n\u001b[0m\u001b[1;32m    302\u001b[0m         \u001b[0;32mif\u001b[0m \u001b[0mkey\u001b[0m \u001b[0;32min\u001b[0m \u001b[0mkeys_to_extract\u001b[0m\u001b[0;34m:\u001b[0m\u001b[0;34m\u001b[0m\u001b[0;34m\u001b[0m\u001b[0m\n\u001b[1;32m    303\u001b[0m           \u001b[0mvis_params\u001b[0m\u001b[0;34m[\u001b[0m\u001b[0mkey\u001b[0m\u001b[0;34m]\u001b[0m \u001b[0;34m=\u001b[0m \u001b[0mparams\u001b[0m\u001b[0;34m[\u001b[0m\u001b[0mkey\u001b[0m\u001b[0;34m]\u001b[0m\u001b[0;34m\u001b[0m\u001b[0;34m\u001b[0m\u001b[0m\n",
            "\u001b[0;31mTypeError\u001b[0m: 'Image' object is not iterable"
          ]
        }
      ]
    },
    {
      "cell_type": "code",
      "metadata": {
        "id": "g3m1H4W7j23T",
        "colab_type": "code",
        "colab": {
          "base_uri": "https://localhost:8080/",
          "height": 375
        },
        "outputId": "00fb0638-a505-4c87-d844-33e7671093c5"
      },
      "source": [
        "\"\"\"\n",
        "# If you just want to plot the image\n",
        "#sceneUrl = scene.getThumbUrl()\n",
        "#Image(url=sceneUrl)\n",
        "\"\"\"\n",
        "map = folium.Map(location=[27.05, 14.45], zoom_start=10, height=500)\n",
        "\n",
        "folium.raster_layers.ImageOverlay(\n",
        "    image=RGBscene,\n",
        "    bounds=[[26.92,14.24],[27.14, 14.58]],\n",
        "    colormap=lambda x: (1, 0, x, x),#R,G,B,alpha\n",
        ").add_to(map)\n",
        "\"\"\"map.add_child(folium.LayerControl())\"\"\"\n",
        "map"
      ],
      "execution_count": 178,
      "outputs": [
        {
          "output_type": "error",
          "ename": "TypeError",
          "evalue": "ignored",
          "traceback": [
            "\u001b[0;31m---------------------------------------------------------------------------\u001b[0m",
            "\u001b[0;31mTypeError\u001b[0m                                 Traceback (most recent call last)",
            "\u001b[0;32m<ipython-input-178-6f4eebb1557f>\u001b[0m in \u001b[0;36m<module>\u001b[0;34m()\u001b[0m\n\u001b[1;32m      9\u001b[0m     \u001b[0mimage\u001b[0m\u001b[0;34m=\u001b[0m\u001b[0mRGBscene\u001b[0m\u001b[0;34m,\u001b[0m\u001b[0;34m\u001b[0m\u001b[0;34m\u001b[0m\u001b[0m\n\u001b[1;32m     10\u001b[0m     \u001b[0mbounds\u001b[0m\u001b[0;34m=\u001b[0m\u001b[0;34m[\u001b[0m\u001b[0;34m[\u001b[0m\u001b[0;36m26.92\u001b[0m\u001b[0;34m,\u001b[0m\u001b[0;36m14.24\u001b[0m\u001b[0;34m]\u001b[0m\u001b[0;34m,\u001b[0m\u001b[0;34m[\u001b[0m\u001b[0;36m27.14\u001b[0m\u001b[0;34m,\u001b[0m \u001b[0;36m14.58\u001b[0m\u001b[0;34m]\u001b[0m\u001b[0;34m]\u001b[0m\u001b[0;34m,\u001b[0m\u001b[0;34m\u001b[0m\u001b[0;34m\u001b[0m\u001b[0m\n\u001b[0;32m---> 11\u001b[0;31m     \u001b[0mcolormap\u001b[0m\u001b[0;34m=\u001b[0m\u001b[0;32mlambda\u001b[0m \u001b[0mx\u001b[0m\u001b[0;34m:\u001b[0m \u001b[0;34m(\u001b[0m\u001b[0;36m1\u001b[0m\u001b[0;34m,\u001b[0m \u001b[0;36m0\u001b[0m\u001b[0;34m,\u001b[0m \u001b[0mx\u001b[0m\u001b[0;34m,\u001b[0m \u001b[0mx\u001b[0m\u001b[0;34m)\u001b[0m\u001b[0;34m,\u001b[0m\u001b[0;31m#R,G,B,alpha\u001b[0m\u001b[0;34m\u001b[0m\u001b[0;34m\u001b[0m\u001b[0m\n\u001b[0m\u001b[1;32m     12\u001b[0m ).add_to(map)\n\u001b[1;32m     13\u001b[0m \u001b[0;34m\"\"\"map.add_child(folium.LayerControl())\"\"\"\u001b[0m\u001b[0;34m\u001b[0m\u001b[0;34m\u001b[0m\u001b[0m\n",
            "\u001b[0;32m/usr/local/lib/python3.6/dist-packages/folium/raster_layers.py\u001b[0m in \u001b[0;36m__init__\u001b[0;34m(self, image, bounds, origin, colormap, mercator_project, pixelated, name, overlay, control, show, **kwargs)\u001b[0m\n\u001b[1;32m    274\u001b[0m                 origin=origin)\n\u001b[1;32m    275\u001b[0m \u001b[0;34m\u001b[0m\u001b[0m\n\u001b[0;32m--> 276\u001b[0;31m         \u001b[0mself\u001b[0m\u001b[0;34m.\u001b[0m\u001b[0murl\u001b[0m \u001b[0;34m=\u001b[0m \u001b[0mimage_to_url\u001b[0m\u001b[0;34m(\u001b[0m\u001b[0mimage\u001b[0m\u001b[0;34m,\u001b[0m \u001b[0morigin\u001b[0m\u001b[0;34m=\u001b[0m\u001b[0morigin\u001b[0m\u001b[0;34m,\u001b[0m \u001b[0mcolormap\u001b[0m\u001b[0;34m=\u001b[0m\u001b[0mcolormap\u001b[0m\u001b[0;34m)\u001b[0m\u001b[0;34m\u001b[0m\u001b[0;34m\u001b[0m\u001b[0m\n\u001b[0m\u001b[1;32m    277\u001b[0m \u001b[0;34m\u001b[0m\u001b[0m\n\u001b[1;32m    278\u001b[0m         \u001b[0mself\u001b[0m\u001b[0;34m.\u001b[0m\u001b[0mbounds\u001b[0m \u001b[0;34m=\u001b[0m \u001b[0mjson\u001b[0m\u001b[0;34m.\u001b[0m\u001b[0mloads\u001b[0m\u001b[0;34m(\u001b[0m\u001b[0mjson\u001b[0m\u001b[0;34m.\u001b[0m\u001b[0mdumps\u001b[0m\u001b[0;34m(\u001b[0m\u001b[0mbounds\u001b[0m\u001b[0;34m)\u001b[0m\u001b[0;34m)\u001b[0m\u001b[0;34m\u001b[0m\u001b[0;34m\u001b[0m\u001b[0m\n",
            "\u001b[0;32m/usr/local/lib/python3.6/dist-packages/folium/utilities.py\u001b[0m in \u001b[0;36mimage_to_url\u001b[0;34m(image, colormap, origin)\u001b[0m\n\u001b[1;32m    114\u001b[0m     \u001b[0;32melse\u001b[0m\u001b[0;34m:\u001b[0m\u001b[0;34m\u001b[0m\u001b[0;34m\u001b[0m\u001b[0m\n\u001b[1;32m    115\u001b[0m         \u001b[0;31m# Round-trip to ensure a nice formatted json.\u001b[0m\u001b[0;34m\u001b[0m\u001b[0;34m\u001b[0m\u001b[0;34m\u001b[0m\u001b[0m\n\u001b[0;32m--> 116\u001b[0;31m         \u001b[0murl\u001b[0m \u001b[0;34m=\u001b[0m \u001b[0mjson\u001b[0m\u001b[0;34m.\u001b[0m\u001b[0mloads\u001b[0m\u001b[0;34m(\u001b[0m\u001b[0mjson\u001b[0m\u001b[0;34m.\u001b[0m\u001b[0mdumps\u001b[0m\u001b[0;34m(\u001b[0m\u001b[0mimage\u001b[0m\u001b[0;34m)\u001b[0m\u001b[0;34m)\u001b[0m\u001b[0;34m\u001b[0m\u001b[0;34m\u001b[0m\u001b[0m\n\u001b[0m\u001b[1;32m    117\u001b[0m     \u001b[0;32mreturn\u001b[0m \u001b[0murl\u001b[0m\u001b[0;34m.\u001b[0m\u001b[0mreplace\u001b[0m\u001b[0;34m(\u001b[0m\u001b[0;34m'\\n'\u001b[0m\u001b[0;34m,\u001b[0m \u001b[0;34m' '\u001b[0m\u001b[0;34m)\u001b[0m\u001b[0;34m\u001b[0m\u001b[0;34m\u001b[0m\u001b[0m\n\u001b[1;32m    118\u001b[0m \u001b[0;34m\u001b[0m\u001b[0m\n",
            "\u001b[0;32m/usr/lib/python3.6/json/__init__.py\u001b[0m in \u001b[0;36mdumps\u001b[0;34m(obj, skipkeys, ensure_ascii, check_circular, allow_nan, cls, indent, separators, default, sort_keys, **kw)\u001b[0m\n\u001b[1;32m    229\u001b[0m         \u001b[0mcls\u001b[0m \u001b[0;32mis\u001b[0m \u001b[0;32mNone\u001b[0m \u001b[0;32mand\u001b[0m \u001b[0mindent\u001b[0m \u001b[0;32mis\u001b[0m \u001b[0;32mNone\u001b[0m \u001b[0;32mand\u001b[0m \u001b[0mseparators\u001b[0m \u001b[0;32mis\u001b[0m \u001b[0;32mNone\u001b[0m \u001b[0;32mand\u001b[0m\u001b[0;34m\u001b[0m\u001b[0;34m\u001b[0m\u001b[0m\n\u001b[1;32m    230\u001b[0m         default is None and not sort_keys and not kw):\n\u001b[0;32m--> 231\u001b[0;31m         \u001b[0;32mreturn\u001b[0m \u001b[0m_default_encoder\u001b[0m\u001b[0;34m.\u001b[0m\u001b[0mencode\u001b[0m\u001b[0;34m(\u001b[0m\u001b[0mobj\u001b[0m\u001b[0;34m)\u001b[0m\u001b[0;34m\u001b[0m\u001b[0;34m\u001b[0m\u001b[0m\n\u001b[0m\u001b[1;32m    232\u001b[0m     \u001b[0;32mif\u001b[0m \u001b[0mcls\u001b[0m \u001b[0;32mis\u001b[0m \u001b[0;32mNone\u001b[0m\u001b[0;34m:\u001b[0m\u001b[0;34m\u001b[0m\u001b[0;34m\u001b[0m\u001b[0m\n\u001b[1;32m    233\u001b[0m         \u001b[0mcls\u001b[0m \u001b[0;34m=\u001b[0m \u001b[0mJSONEncoder\u001b[0m\u001b[0;34m\u001b[0m\u001b[0;34m\u001b[0m\u001b[0m\n",
            "\u001b[0;32m/usr/lib/python3.6/json/encoder.py\u001b[0m in \u001b[0;36mencode\u001b[0;34m(self, o)\u001b[0m\n\u001b[1;32m    197\u001b[0m         \u001b[0;31m# exceptions aren't as detailed.  The list call should be roughly\u001b[0m\u001b[0;34m\u001b[0m\u001b[0;34m\u001b[0m\u001b[0;34m\u001b[0m\u001b[0m\n\u001b[1;32m    198\u001b[0m         \u001b[0;31m# equivalent to the PySequence_Fast that ''.join() would do.\u001b[0m\u001b[0;34m\u001b[0m\u001b[0;34m\u001b[0m\u001b[0;34m\u001b[0m\u001b[0m\n\u001b[0;32m--> 199\u001b[0;31m         \u001b[0mchunks\u001b[0m \u001b[0;34m=\u001b[0m \u001b[0mself\u001b[0m\u001b[0;34m.\u001b[0m\u001b[0miterencode\u001b[0m\u001b[0;34m(\u001b[0m\u001b[0mo\u001b[0m\u001b[0;34m,\u001b[0m \u001b[0m_one_shot\u001b[0m\u001b[0;34m=\u001b[0m\u001b[0;32mTrue\u001b[0m\u001b[0;34m)\u001b[0m\u001b[0;34m\u001b[0m\u001b[0;34m\u001b[0m\u001b[0m\n\u001b[0m\u001b[1;32m    200\u001b[0m         \u001b[0;32mif\u001b[0m \u001b[0;32mnot\u001b[0m \u001b[0misinstance\u001b[0m\u001b[0;34m(\u001b[0m\u001b[0mchunks\u001b[0m\u001b[0;34m,\u001b[0m \u001b[0;34m(\u001b[0m\u001b[0mlist\u001b[0m\u001b[0;34m,\u001b[0m \u001b[0mtuple\u001b[0m\u001b[0;34m)\u001b[0m\u001b[0;34m)\u001b[0m\u001b[0;34m:\u001b[0m\u001b[0;34m\u001b[0m\u001b[0;34m\u001b[0m\u001b[0m\n\u001b[1;32m    201\u001b[0m             \u001b[0mchunks\u001b[0m \u001b[0;34m=\u001b[0m \u001b[0mlist\u001b[0m\u001b[0;34m(\u001b[0m\u001b[0mchunks\u001b[0m\u001b[0;34m)\u001b[0m\u001b[0;34m\u001b[0m\u001b[0;34m\u001b[0m\u001b[0m\n",
            "\u001b[0;32m/usr/lib/python3.6/json/encoder.py\u001b[0m in \u001b[0;36miterencode\u001b[0;34m(self, o, _one_shot)\u001b[0m\n\u001b[1;32m    255\u001b[0m                 \u001b[0mself\u001b[0m\u001b[0;34m.\u001b[0m\u001b[0mkey_separator\u001b[0m\u001b[0;34m,\u001b[0m \u001b[0mself\u001b[0m\u001b[0;34m.\u001b[0m\u001b[0mitem_separator\u001b[0m\u001b[0;34m,\u001b[0m \u001b[0mself\u001b[0m\u001b[0;34m.\u001b[0m\u001b[0msort_keys\u001b[0m\u001b[0;34m,\u001b[0m\u001b[0;34m\u001b[0m\u001b[0;34m\u001b[0m\u001b[0m\n\u001b[1;32m    256\u001b[0m                 self.skipkeys, _one_shot)\n\u001b[0;32m--> 257\u001b[0;31m         \u001b[0;32mreturn\u001b[0m \u001b[0m_iterencode\u001b[0m\u001b[0;34m(\u001b[0m\u001b[0mo\u001b[0m\u001b[0;34m,\u001b[0m \u001b[0;36m0\u001b[0m\u001b[0;34m)\u001b[0m\u001b[0;34m\u001b[0m\u001b[0;34m\u001b[0m\u001b[0m\n\u001b[0m\u001b[1;32m    258\u001b[0m \u001b[0;34m\u001b[0m\u001b[0m\n\u001b[1;32m    259\u001b[0m def _make_iterencode(markers, _default, _encoder, _indent, _floatstr,\n",
            "\u001b[0;32m/usr/lib/python3.6/json/encoder.py\u001b[0m in \u001b[0;36mdefault\u001b[0;34m(self, o)\u001b[0m\n\u001b[1;32m    178\u001b[0m         \"\"\"\n\u001b[1;32m    179\u001b[0m         raise TypeError(\"Object of type '%s' is not JSON serializable\" %\n\u001b[0;32m--> 180\u001b[0;31m                         o.__class__.__name__)\n\u001b[0m\u001b[1;32m    181\u001b[0m \u001b[0;34m\u001b[0m\u001b[0m\n\u001b[1;32m    182\u001b[0m     \u001b[0;32mdef\u001b[0m \u001b[0mencode\u001b[0m\u001b[0;34m(\u001b[0m\u001b[0mself\u001b[0m\u001b[0;34m,\u001b[0m \u001b[0mo\u001b[0m\u001b[0;34m)\u001b[0m\u001b[0;34m:\u001b[0m\u001b[0;34m\u001b[0m\u001b[0;34m\u001b[0m\u001b[0m\n",
            "\u001b[0;31mTypeError\u001b[0m: Object of type 'Image' is not JSON serializable"
          ]
        }
      ]
    },
    {
      "cell_type": "code",
      "metadata": {
        "id": "QrwABYzrioyl",
        "colab_type": "code",
        "colab": {
          "base_uri": "https://localhost:8080/",
          "height": 375
        },
        "outputId": "bbb286cd-8081-4999-a340-d4656d424d71"
      },
      "source": [
        "# Define a method for displaying Earth Engine image tiles to folium map.\n",
        "def add_ee_layer(self, eeImageObject, visParams, name):\n",
        "  mapID = ee.Image(eeImageObject).getMapId(visParams)\n",
        "  folium.raster_layers.TileLayer(\n",
        "    tiles = \"https://earthengine.googleapis.com/map/\"+mapID['mapid']+\n",
        "      \"/{z}/{x}/{y}?token=\"+mapID['token'],\n",
        "    attr = \"Map Data &copy; <a href='https://earthengine.google.com/'>Google Earth Engine</a>\",\n",
        "    name = name,\n",
        "    overlay = True,\n",
        "    control = True\n",
        "  ).add_to(self)\n",
        "\n",
        "# Add EE drawing method to folium.\n",
        "folium.Map.add_ee_layer = add_ee_layer\n",
        "\n",
        "# Set visualization parameters.\n",
        "visParams = {'min':0, 'max':3000}\n",
        "\n",
        "# Create a folium map object.\n",
        "myMap = folium.Map(location=[27.05, 14.45], zoom_start=10, height=500)\n",
        "\n",
        "# Add the elevation model to the map object.\n",
        "myMap.add_ee_layer(sceneUrl, visParams, 'Sebha')\n",
        "\n",
        "# Add a layer control panel to the map.\n",
        "myMap.add_child(folium.LayerControl())\n",
        "\n",
        "# Display the map.\n",
        "display(myMap)"
      ],
      "execution_count": 153,
      "outputs": [
        {
          "output_type": "error",
          "ename": "EEException",
          "evalue": "ignored",
          "traceback": [
            "\u001b[0;31m---------------------------------------------------------------------------\u001b[0m",
            "\u001b[0;31mEEException\u001b[0m                               Traceback (most recent call last)",
            "\u001b[0;32m<ipython-input-153-02577a1e6531>\u001b[0m in \u001b[0;36m<module>\u001b[0;34m()\u001b[0m\n\u001b[1;32m     20\u001b[0m \u001b[0;34m\u001b[0m\u001b[0m\n\u001b[1;32m     21\u001b[0m \u001b[0;31m# Add the elevation model to the map object.\u001b[0m\u001b[0;34m\u001b[0m\u001b[0;34m\u001b[0m\u001b[0;34m\u001b[0m\u001b[0m\n\u001b[0;32m---> 22\u001b[0;31m \u001b[0mmyMap\u001b[0m\u001b[0;34m.\u001b[0m\u001b[0madd_ee_layer\u001b[0m\u001b[0;34m(\u001b[0m\u001b[0msceneUrl\u001b[0m\u001b[0;34m,\u001b[0m \u001b[0mvisParams\u001b[0m\u001b[0;34m,\u001b[0m \u001b[0;34m'Sebha'\u001b[0m\u001b[0;34m)\u001b[0m\u001b[0;34m\u001b[0m\u001b[0;34m\u001b[0m\u001b[0m\n\u001b[0m\u001b[1;32m     23\u001b[0m \u001b[0;34m\u001b[0m\u001b[0m\n\u001b[1;32m     24\u001b[0m \u001b[0;31m# Add a layer control panel to the map.\u001b[0m\u001b[0;34m\u001b[0m\u001b[0;34m\u001b[0m\u001b[0;34m\u001b[0m\u001b[0m\n",
            "\u001b[0;32m<ipython-input-153-02577a1e6531>\u001b[0m in \u001b[0;36madd_ee_layer\u001b[0;34m(self, eeImageObject, visParams, name)\u001b[0m\n\u001b[1;32m      1\u001b[0m \u001b[0;32mdef\u001b[0m \u001b[0madd_ee_layer\u001b[0m\u001b[0;34m(\u001b[0m\u001b[0mself\u001b[0m\u001b[0;34m,\u001b[0m \u001b[0meeImageObject\u001b[0m\u001b[0;34m,\u001b[0m \u001b[0mvisParams\u001b[0m\u001b[0;34m,\u001b[0m \u001b[0mname\u001b[0m\u001b[0;34m)\u001b[0m\u001b[0;34m:\u001b[0m\u001b[0;34m\u001b[0m\u001b[0;34m\u001b[0m\u001b[0m\n\u001b[0;32m----> 2\u001b[0;31m   \u001b[0mmapID\u001b[0m \u001b[0;34m=\u001b[0m \u001b[0mee\u001b[0m\u001b[0;34m.\u001b[0m\u001b[0mImage\u001b[0m\u001b[0;34m(\u001b[0m\u001b[0meeImageObject\u001b[0m\u001b[0;34m)\u001b[0m\u001b[0;34m.\u001b[0m\u001b[0mgetMapId\u001b[0m\u001b[0;34m(\u001b[0m\u001b[0mvisParams\u001b[0m\u001b[0;34m)\u001b[0m\u001b[0;34m\u001b[0m\u001b[0;34m\u001b[0m\u001b[0m\n\u001b[0m\u001b[1;32m      3\u001b[0m   folium.raster_layers.TileLayer(\n\u001b[1;32m      4\u001b[0m     \u001b[0mtiles\u001b[0m \u001b[0;34m=\u001b[0m \u001b[0;34m\"https://earthengine.googleapis.com/map/\"\u001b[0m\u001b[0;34m+\u001b[0m\u001b[0mmapID\u001b[0m\u001b[0;34m[\u001b[0m\u001b[0;34m'mapid'\u001b[0m\u001b[0;34m]\u001b[0m\u001b[0;34m+\u001b[0m\u001b[0;34m\u001b[0m\u001b[0;34m\u001b[0m\u001b[0m\n\u001b[1;32m      5\u001b[0m       \u001b[0;34m\"/{z}/{x}/{y}?token=\"\u001b[0m\u001b[0;34m+\u001b[0m\u001b[0mmapID\u001b[0m\u001b[0;34m[\u001b[0m\u001b[0;34m'token'\u001b[0m\u001b[0;34m]\u001b[0m\u001b[0;34m,\u001b[0m\u001b[0;34m\u001b[0m\u001b[0;34m\u001b[0m\u001b[0m\n",
            "\u001b[0;32m/usr/local/lib/python3.6/dist-packages/ee/computedobject.py\u001b[0m in \u001b[0;36m__call__\u001b[0;34m(cls, *args, **kwargs)\u001b[0m\n\u001b[1;32m     30\u001b[0m       \u001b[0;32mreturn\u001b[0m \u001b[0margs\u001b[0m\u001b[0;34m[\u001b[0m\u001b[0;36m0\u001b[0m\u001b[0;34m]\u001b[0m\u001b[0;34m\u001b[0m\u001b[0;34m\u001b[0m\u001b[0m\n\u001b[1;32m     31\u001b[0m     \u001b[0;32melse\u001b[0m\u001b[0;34m:\u001b[0m\u001b[0;34m\u001b[0m\u001b[0;34m\u001b[0m\u001b[0m\n\u001b[0;32m---> 32\u001b[0;31m       \u001b[0;32mreturn\u001b[0m \u001b[0mtype\u001b[0m\u001b[0;34m.\u001b[0m\u001b[0m__call__\u001b[0m\u001b[0;34m(\u001b[0m\u001b[0mcls\u001b[0m\u001b[0;34m,\u001b[0m \u001b[0;34m*\u001b[0m\u001b[0margs\u001b[0m\u001b[0;34m,\u001b[0m \u001b[0;34m**\u001b[0m\u001b[0mkwargs\u001b[0m\u001b[0;34m)\u001b[0m\u001b[0;34m\u001b[0m\u001b[0;34m\u001b[0m\u001b[0m\n\u001b[0m\u001b[1;32m     33\u001b[0m \u001b[0;34m\u001b[0m\u001b[0m\n\u001b[1;32m     34\u001b[0m \u001b[0;34m\u001b[0m\u001b[0m\n",
            "\u001b[0;32m/usr/local/lib/python3.6/dist-packages/ee/image.py\u001b[0m in \u001b[0;36m__init__\u001b[0;34m(self, args, version)\u001b[0m\n\u001b[1;32m     92\u001b[0m     \u001b[0;32melse\u001b[0m\u001b[0;34m:\u001b[0m\u001b[0;34m\u001b[0m\u001b[0;34m\u001b[0m\u001b[0m\n\u001b[1;32m     93\u001b[0m       raise ee_exception.EEException(\n\u001b[0;32m---> 94\u001b[0;31m           'Unrecognized argument type to convert to an Image: %s' % args)\n\u001b[0m\u001b[1;32m     95\u001b[0m \u001b[0;34m\u001b[0m\u001b[0m\n\u001b[1;32m     96\u001b[0m   \u001b[0;34m@\u001b[0m\u001b[0mclassmethod\u001b[0m\u001b[0;34m\u001b[0m\u001b[0;34m\u001b[0m\u001b[0m\n",
            "\u001b[0;31mEEException\u001b[0m: Unrecognized argument type to convert to an Image: <bound method Image.getThumbURL of <ee.image.Image object at 0x7f7ea491db38>>"
          ]
        }
      ]
    },
    {
      "cell_type": "code",
      "metadata": {
        "id": "OWTSZAtRhIF0",
        "colab_type": "code",
        "colab": {}
      },
      "source": [
        "mapid = scene.getMapId({'bands': ['B4', 'B3', 'B2'], 'min': 0, 'max': 0.3})"
      ],
      "execution_count": 0,
      "outputs": []
    },
    {
      "cell_type": "code",
      "metadata": {
        "id": "aVttpARkdG66",
        "colab_type": "code",
        "colab": {
          "base_uri": "https://localhost:8080/",
          "height": 1000
        },
        "outputId": "f401f21e-6454-4bd4-97ca-1ac62924ef0c"
      },
      "source": [
        "m = folium.Map(location=[27.05, 14.45], tiles = \"Stamen Terrain\", width = '30%', height = '50%', zoom_start = 12)\n",
        "m.add_child(folium.raster_layers.ImageOverlay(sceneUrl, opacity=.7, bounds=[[26.92, 14.24], [27.14, 14.58]]))\n",
        "\n",
        "m\n",
        "\n",
        "\n",
        "\n"
      ],
      "execution_count": 114,
      "outputs": [
        {
          "output_type": "execute_result",
          "data": {
            "text/html": [
              "<div style=\"width:100%;\"><div style=\"position:relative;width:100%;height:0;padding-bottom:60%;\"><iframe src=\"data:text/html;charset=utf-8;base64,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\" style=\"position:absolute;width:100%;height:100%;left:0;top:0;border:none !important;\" allowfullscreen webkitallowfullscreen mozallowfullscreen></iframe></div></div>"
            ],
            "text/plain": [
              "<folium.folium.Map at 0x7f7ea48d9dd8>"
            ]
          },
          "metadata": {
            "tags": []
          },
          "execution_count": 114
        }
      ]
    },
    {
      "cell_type": "code",
      "metadata": {
        "id": "Wf1KKX0QmJsg",
        "colab_type": "code",
        "colab": {
          "base_uri": "https://localhost:8080/",
          "height": 1000
        },
        "outputId": "8864252e-d2d3-4e04-eba8-50e93cfa83e8"
      },
      "source": [
        "scene.getInfo()\n"
      ],
      "execution_count": 120,
      "outputs": [
        {
          "output_type": "execute_result",
          "data": {
            "text/plain": [
              "{'bands': [{'crs': 'EPSG:32635',\n",
              "   'crs_transform': [30.0, 0.0, 338685.0, 0.0, -30.0, 1701915.0],\n",
              "   'data_type': {'max': 32767,\n",
              "    'min': -32768,\n",
              "    'precision': 'int',\n",
              "    'type': 'PixelType'},\n",
              "   'dimensions': [7781, 6991],\n",
              "   'id': 'B1'},\n",
              "  {'crs': 'EPSG:32635',\n",
              "   'crs_transform': [30.0, 0.0, 338685.0, 0.0, -30.0, 1701915.0],\n",
              "   'data_type': {'max': 32767,\n",
              "    'min': -32768,\n",
              "    'precision': 'int',\n",
              "    'type': 'PixelType'},\n",
              "   'dimensions': [7781, 6991],\n",
              "   'id': 'B2'},\n",
              "  {'crs': 'EPSG:32635',\n",
              "   'crs_transform': [30.0, 0.0, 338685.0, 0.0, -30.0, 1701915.0],\n",
              "   'data_type': {'max': 32767,\n",
              "    'min': -32768,\n",
              "    'precision': 'int',\n",
              "    'type': 'PixelType'},\n",
              "   'dimensions': [7781, 6991],\n",
              "   'id': 'B3'},\n",
              "  {'crs': 'EPSG:32635',\n",
              "   'crs_transform': [30.0, 0.0, 338685.0, 0.0, -30.0, 1701915.0],\n",
              "   'data_type': {'max': 32767,\n",
              "    'min': -32768,\n",
              "    'precision': 'int',\n",
              "    'type': 'PixelType'},\n",
              "   'dimensions': [7781, 6991],\n",
              "   'id': 'B4'},\n",
              "  {'crs': 'EPSG:32635',\n",
              "   'crs_transform': [30.0, 0.0, 338685.0, 0.0, -30.0, 1701915.0],\n",
              "   'data_type': {'max': 32767,\n",
              "    'min': -32768,\n",
              "    'precision': 'int',\n",
              "    'type': 'PixelType'},\n",
              "   'dimensions': [7781, 6991],\n",
              "   'id': 'B5'},\n",
              "  {'crs': 'EPSG:32635',\n",
              "   'crs_transform': [30.0, 0.0, 338685.0, 0.0, -30.0, 1701915.0],\n",
              "   'data_type': {'max': 32767,\n",
              "    'min': -32768,\n",
              "    'precision': 'int',\n",
              "    'type': 'PixelType'},\n",
              "   'dimensions': [7781, 6991],\n",
              "   'id': 'B6'},\n",
              "  {'crs': 'EPSG:32635',\n",
              "   'crs_transform': [30.0, 0.0, 338685.0, 0.0, -30.0, 1701915.0],\n",
              "   'data_type': {'max': 32767,\n",
              "    'min': -32768,\n",
              "    'precision': 'int',\n",
              "    'type': 'PixelType'},\n",
              "   'dimensions': [7781, 6991],\n",
              "   'id': 'B7'},\n",
              "  {'crs': 'EPSG:32635',\n",
              "   'crs_transform': [30.0, 0.0, 338685.0, 0.0, -30.0, 1701915.0],\n",
              "   'data_type': {'max': 32767,\n",
              "    'min': -32768,\n",
              "    'precision': 'int',\n",
              "    'type': 'PixelType'},\n",
              "   'dimensions': [7781, 6991],\n",
              "   'id': 'sr_atmos_opacity'},\n",
              "  {'crs': 'EPSG:32635',\n",
              "   'crs_transform': [30.0, 0.0, 338685.0, 0.0, -30.0, 1701915.0],\n",
              "   'data_type': {'max': 255,\n",
              "    'min': 0,\n",
              "    'precision': 'int',\n",
              "    'type': 'PixelType'},\n",
              "   'dimensions': [7781, 6991],\n",
              "   'id': 'sr_cloud_qa'},\n",
              "  {'crs': 'EPSG:32635',\n",
              "   'crs_transform': [30.0, 0.0, 338685.0, 0.0, -30.0, 1701915.0],\n",
              "   'data_type': {'max': 65535,\n",
              "    'min': 0,\n",
              "    'precision': 'int',\n",
              "    'type': 'PixelType'},\n",
              "   'dimensions': [7781, 6991],\n",
              "   'id': 'pixel_qa'},\n",
              "  {'crs': 'EPSG:32635',\n",
              "   'crs_transform': [30.0, 0.0, 338685.0, 0.0, -30.0, 1701915.0],\n",
              "   'data_type': {'max': 255,\n",
              "    'min': 0,\n",
              "    'precision': 'int',\n",
              "    'type': 'PixelType'},\n",
              "   'dimensions': [7781, 6991],\n",
              "   'id': 'radsat_qa'}],\n",
              " 'id': 'LANDSAT/LT05/C01/T1_SR/LT05_177050_19950113',\n",
              " 'properties': {'CLOUD_COVER': 0.0,\n",
              "  'CLOUD_COVER_LAND': 0.0,\n",
              "  'EARTH_SUN_DISTANCE': 0.983523,\n",
              "  'ESPA_VERSION': '2_19_0c',\n",
              "  'GEOMETRIC_RMSE_MODEL': 4.314,\n",
              "  'GEOMETRIC_RMSE_MODEL_X': 2.699,\n",
              "  'GEOMETRIC_RMSE_MODEL_Y': 3.365,\n",
              "  'IMAGE_QUALITY': 9.0,\n",
              "  'LANDSAT_ID': 'LT05_L1TP_177050_19950113_20170110_01_T1',\n",
              "  'LEVEL1_PRODUCTION_DATE': 1484024860000.0,\n",
              "  'PIXEL_QA_VERSION': 'generate_pixel_qa_1.5.0',\n",
              "  'SATELLITE': 'LANDSAT_5',\n",
              "  'SENSING_TIME': '1995-01-13T07:47:04.5830500Z',\n",
              "  'SOLAR_AZIMUTH_ANGLE': 132.629852,\n",
              "  'SOLAR_ZENITH_ANGLE': 52.376583,\n",
              "  'SR_APP_VERSION': 'LEDAPS_3.2.0',\n",
              "  'WRS_PATH': 177.0,\n",
              "  'WRS_ROW': 50.0,\n",
              "  'system:asset_size': 297677807,\n",
              "  'system:footprint': {'coordinates': [[25.55743128621575, 13.759705512903887],\n",
              "    [26.010551945608633, 13.69537265826972],\n",
              "    [27.250260254281873, 13.515010482413244],\n",
              "    [27.252788135225494, 13.523633987230438],\n",
              "    [27.280379792439312, 13.645682708307293],\n",
              "    [27.312746427319162, 13.789684699669236],\n",
              "    [27.403934081307327, 14.19534832351008],\n",
              "    [27.561122253802246, 14.89726213171819],\n",
              "    [27.599293439166036, 15.068142470900066],\n",
              "    [27.613862328448516, 15.134979994628537],\n",
              "    [27.39998077302231, 15.166660776729506],\n",
              "    [26.913672454467047, 15.237842347542474],\n",
              "    [25.91150562260253, 15.381020177146334],\n",
              "    [25.90703142485395, 15.379133723942115],\n",
              "    [25.903267510337677, 15.36893007937422],\n",
              "    [25.851853702228134, 15.13383272224569],\n",
              "    [25.719355255768523, 14.523097190303435],\n",
              "    [25.581631950044674, 13.885324696884535],\n",
              "    [25.56343195119986, 13.799087842056165],\n",
              "    [25.5563240203971, 13.763236371528853],\n",
              "    [25.55743128621575, 13.759705512903887]],\n",
              "   'type': 'LinearRing'},\n",
              "  'system:index': 'LT05_177050_19950113',\n",
              "  'system:time_start': 789983224583.0},\n",
              " 'type': 'Image',\n",
              " 'version': 1538942377068352}"
            ]
          },
          "metadata": {
            "tags": []
          },
          "execution_count": 120
        }
      ]
    },
    {
      "cell_type": "code",
      "metadata": {
        "id": "SdOYF7FdnRH1",
        "colab_type": "code",
        "colab": {
          "base_uri": "https://localhost:8080/",
          "height": 249
        },
        "outputId": "e00f2c7e-8b48-4a18-b82f-498b197c11c7"
      },
      "source": [
        "# Export the image, specifying scale and region.\n",
        "##Export.image.toDrive({image: scene, description: 'imageToDriveExample', scale: 30, region: aoi});\n",
        "\n",
        "task_config = {\n",
        "    'scale': 30,\n",
        "    'fileFormat': 'GeoTIFF',\n",
        "    'skipEmptyTiles': True,\n",
        "    'folder': 'testolder'\n",
        "    }\n",
        "\n",
        "task = ee.batch.Export.image.toDrive(scene, 'first test', **task_config)\n",
        "\n",
        "task.start()\n",
        "\n",
        "# Monitor the task.\n",
        "while task.status()['state'] in ['READY', 'RUNNING']:\n",
        "  print(task.status())\n",
        "  time.sleep(10)\n",
        "else:\n",
        "  print(task.status())"
      ],
      "execution_count": 138,
      "outputs": [
        {
          "output_type": "stream",
          "text": [
            "{'id': 'BHUHMC7PCZUV567QJ5UKHJDG', 'state': 'READY', 'creation_timestamp_ms': 1572526052274, 'update_timestamp_ms': 1572526052274, 'description': 'first test', 'task_type': 'EXPORT_IMAGE'}\n"
          ],
          "name": "stdout"
        },
        {
          "output_type": "error",
          "ename": "NameError",
          "evalue": "ignored",
          "traceback": [
            "\u001b[0;31m---------------------------------------------------------------------------\u001b[0m",
            "\u001b[0;31mNameError\u001b[0m                                 Traceback (most recent call last)",
            "\u001b[0;32m<ipython-input-138-d322ee5ce978>\u001b[0m in \u001b[0;36m<module>\u001b[0;34m()\u001b[0m\n\u001b[1;32m     14\u001b[0m \u001b[0;32mwhile\u001b[0m \u001b[0mtask\u001b[0m\u001b[0;34m.\u001b[0m\u001b[0mstatus\u001b[0m\u001b[0;34m(\u001b[0m\u001b[0;34m)\u001b[0m\u001b[0;34m[\u001b[0m\u001b[0;34m'state'\u001b[0m\u001b[0;34m]\u001b[0m \u001b[0;32min\u001b[0m \u001b[0;34m[\u001b[0m\u001b[0;34m'READY'\u001b[0m\u001b[0;34m,\u001b[0m \u001b[0;34m'RUNNING'\u001b[0m\u001b[0;34m]\u001b[0m\u001b[0;34m:\u001b[0m\u001b[0;34m\u001b[0m\u001b[0;34m\u001b[0m\u001b[0m\n\u001b[1;32m     15\u001b[0m   \u001b[0mprint\u001b[0m\u001b[0;34m(\u001b[0m\u001b[0mtask\u001b[0m\u001b[0;34m.\u001b[0m\u001b[0mstatus\u001b[0m\u001b[0;34m(\u001b[0m\u001b[0;34m)\u001b[0m\u001b[0;34m)\u001b[0m\u001b[0;34m\u001b[0m\u001b[0;34m\u001b[0m\u001b[0m\n\u001b[0;32m---> 16\u001b[0;31m   \u001b[0mtime\u001b[0m\u001b[0;34m.\u001b[0m\u001b[0msleep\u001b[0m\u001b[0;34m(\u001b[0m\u001b[0;36m10\u001b[0m\u001b[0;34m)\u001b[0m\u001b[0;34m\u001b[0m\u001b[0;34m\u001b[0m\u001b[0m\n\u001b[0m\u001b[1;32m     17\u001b[0m \u001b[0;32melse\u001b[0m\u001b[0;34m:\u001b[0m\u001b[0;34m\u001b[0m\u001b[0;34m\u001b[0m\u001b[0m\n\u001b[1;32m     18\u001b[0m   \u001b[0mprint\u001b[0m\u001b[0;34m(\u001b[0m\u001b[0mtask\u001b[0m\u001b[0;34m.\u001b[0m\u001b[0mstatus\u001b[0m\u001b[0;34m(\u001b[0m\u001b[0;34m)\u001b[0m\u001b[0;34m)\u001b[0m\u001b[0;34m\u001b[0m\u001b[0;34m\u001b[0m\u001b[0m\n",
            "\u001b[0;31mNameError\u001b[0m: name 'time' is not defined"
          ]
        }
      ]
    },
    {
      "cell_type": "code",
      "metadata": {
        "id": "BO94E8lSqVNw",
        "colab_type": "code",
        "colab": {
          "base_uri": "https://localhost:8080/",
          "height": 581
        },
        "outputId": "0f61b907-e9da-4aec-a404-39dfcf7107a0"
      },
      "source": [
        "# Monitor the task.\n",
        "while task.status()['state'] in ['READY', 'RUNNING']:\n",
        "  print(task.status())\n",
        "  time.sleep(10)\n",
        "else:\n",
        "  print(task.status())"
      ],
      "execution_count": 141,
      "outputs": [
        {
          "output_type": "stream",
          "text": [
            "{'id': 'BHUHMC7PCZUV567QJ5UKHJDG', 'state': 'RUNNING', 'creation_timestamp_ms': 1572526052274, 'update_timestamp_ms': 1572526062134, 'description': 'first test', 'task_type': 'EXPORT_IMAGE', 'start_timestamp_ms': 1572526061993, 'progress': 0.0}\n",
            "{'id': 'BHUHMC7PCZUV567QJ5UKHJDG', 'state': 'RUNNING', 'creation_timestamp_ms': 1572526052274, 'update_timestamp_ms': 1572526062134, 'description': 'first test', 'task_type': 'EXPORT_IMAGE', 'start_timestamp_ms': 1572526061993, 'progress': 0.0}\n",
            "{'id': 'BHUHMC7PCZUV567QJ5UKHJDG', 'state': 'RUNNING', 'creation_timestamp_ms': 1572526052274, 'update_timestamp_ms': 1572526062134, 'description': 'first test', 'task_type': 'EXPORT_IMAGE', 'start_timestamp_ms': 1572526061993, 'progress': 0.0}\n",
            "{'id': 'BHUHMC7PCZUV567QJ5UKHJDG', 'state': 'RUNNING', 'creation_timestamp_ms': 1572526052274, 'update_timestamp_ms': 1572526062134, 'description': 'first test', 'task_type': 'EXPORT_IMAGE', 'start_timestamp_ms': 1572526061993, 'progress': 0.0}\n",
            "{'id': 'BHUHMC7PCZUV567QJ5UKHJDG', 'state': 'RUNNING', 'creation_timestamp_ms': 1572526052274, 'update_timestamp_ms': 1572526062134, 'description': 'first test', 'task_type': 'EXPORT_IMAGE', 'start_timestamp_ms': 1572526061993, 'progress': 0.0}\n",
            "{'id': 'BHUHMC7PCZUV567QJ5UKHJDG', 'state': 'RUNNING', 'creation_timestamp_ms': 1572526052274, 'update_timestamp_ms': 1572526062134, 'description': 'first test', 'task_type': 'EXPORT_IMAGE', 'start_timestamp_ms': 1572526061993, 'progress': 0.0}\n",
            "{'id': 'BHUHMC7PCZUV567QJ5UKHJDG', 'state': 'RUNNING', 'creation_timestamp_ms': 1572526052274, 'update_timestamp_ms': 1572526062134, 'description': 'first test', 'task_type': 'EXPORT_IMAGE', 'start_timestamp_ms': 1572526061993, 'progress': 0.0}\n",
            "{'id': 'BHUHMC7PCZUV567QJ5UKHJDG', 'state': 'RUNNING', 'creation_timestamp_ms': 1572526052274, 'update_timestamp_ms': 1572526212117, 'description': 'first test', 'task_type': 'EXPORT_IMAGE', 'start_timestamp_ms': 1572526061993, 'progress': 0.0}\n",
            "{'id': 'BHUHMC7PCZUV567QJ5UKHJDG', 'state': 'RUNNING', 'creation_timestamp_ms': 1572526052274, 'update_timestamp_ms': 1572526212117, 'description': 'first test', 'task_type': 'EXPORT_IMAGE', 'start_timestamp_ms': 1572526061993, 'progress': 0.0}\n",
            "{'id': 'BHUHMC7PCZUV567QJ5UKHJDG', 'state': 'RUNNING', 'creation_timestamp_ms': 1572526052274, 'update_timestamp_ms': 1572526212117, 'description': 'first test', 'task_type': 'EXPORT_IMAGE', 'start_timestamp_ms': 1572526061993, 'progress': 0.0}\n",
            "{'id': 'BHUHMC7PCZUV567QJ5UKHJDG', 'state': 'RUNNING', 'creation_timestamp_ms': 1572526052274, 'update_timestamp_ms': 1572526212117, 'description': 'first test', 'task_type': 'EXPORT_IMAGE', 'start_timestamp_ms': 1572526061993, 'progress': 0.0}\n",
            "{'id': 'BHUHMC7PCZUV567QJ5UKHJDG', 'state': 'RUNNING', 'creation_timestamp_ms': 1572526052274, 'update_timestamp_ms': 1572526212117, 'description': 'first test', 'task_type': 'EXPORT_IMAGE', 'start_timestamp_ms': 1572526061993, 'progress': 0.0}\n",
            "{'id': 'BHUHMC7PCZUV567QJ5UKHJDG', 'state': 'RUNNING', 'creation_timestamp_ms': 1572526052274, 'update_timestamp_ms': 1572526212117, 'description': 'first test', 'task_type': 'EXPORT_IMAGE', 'start_timestamp_ms': 1572526061993, 'progress': 0.0}\n",
            "{'id': 'BHUHMC7PCZUV567QJ5UKHJDG', 'state': 'RUNNING', 'creation_timestamp_ms': 1572526052274, 'update_timestamp_ms': 1572526212117, 'description': 'first test', 'task_type': 'EXPORT_IMAGE', 'start_timestamp_ms': 1572526061993, 'progress': 0.0}\n",
            "{'id': 'BHUHMC7PCZUV567QJ5UKHJDG', 'state': 'RUNNING', 'creation_timestamp_ms': 1572526052274, 'update_timestamp_ms': 1572526212117, 'description': 'first test', 'task_type': 'EXPORT_IMAGE', 'start_timestamp_ms': 1572526061993, 'progress': 0.0}\n",
            "{'id': 'BHUHMC7PCZUV567QJ5UKHJDG', 'state': 'RUNNING', 'creation_timestamp_ms': 1572526052274, 'update_timestamp_ms': 1572526212117, 'description': 'first test', 'task_type': 'EXPORT_IMAGE', 'start_timestamp_ms': 1572526061993, 'progress': 0.0}\n",
            "{'id': 'BHUHMC7PCZUV567QJ5UKHJDG', 'state': 'RUNNING', 'creation_timestamp_ms': 1572526052274, 'update_timestamp_ms': 1572526212117, 'description': 'first test', 'task_type': 'EXPORT_IMAGE', 'start_timestamp_ms': 1572526061993, 'progress': 0.0}\n",
            "{'id': 'BHUHMC7PCZUV567QJ5UKHJDG', 'state': 'RUNNING', 'creation_timestamp_ms': 1572526052274, 'update_timestamp_ms': 1572526212117, 'description': 'first test', 'task_type': 'EXPORT_IMAGE', 'start_timestamp_ms': 1572526061993, 'progress': 0.0}\n",
            "{'id': 'BHUHMC7PCZUV567QJ5UKHJDG', 'state': 'RUNNING', 'creation_timestamp_ms': 1572526052274, 'update_timestamp_ms': 1572526212117, 'description': 'first test', 'task_type': 'EXPORT_IMAGE', 'start_timestamp_ms': 1572526061993, 'progress': 0.0}\n",
            "{'id': 'BHUHMC7PCZUV567QJ5UKHJDG', 'state': 'RUNNING', 'creation_timestamp_ms': 1572526052274, 'update_timestamp_ms': 1572526212117, 'description': 'first test', 'task_type': 'EXPORT_IMAGE', 'start_timestamp_ms': 1572526061993, 'progress': 0.0}\n",
            "{'id': 'BHUHMC7PCZUV567QJ5UKHJDG', 'state': 'RUNNING', 'creation_timestamp_ms': 1572526052274, 'update_timestamp_ms': 1572526362113, 'description': 'first test', 'task_type': 'EXPORT_IMAGE', 'start_timestamp_ms': 1572526061993, 'progress': 0.0}\n",
            "{'id': 'BHUHMC7PCZUV567QJ5UKHJDG', 'state': 'RUNNING', 'creation_timestamp_ms': 1572526052274, 'update_timestamp_ms': 1572526362113, 'description': 'first test', 'task_type': 'EXPORT_IMAGE', 'start_timestamp_ms': 1572526061993, 'progress': 0.0}\n",
            "{'id': 'BHUHMC7PCZUV567QJ5UKHJDG', 'state': 'RUNNING', 'creation_timestamp_ms': 1572526052274, 'update_timestamp_ms': 1572526362113, 'description': 'first test', 'task_type': 'EXPORT_IMAGE', 'start_timestamp_ms': 1572526061993, 'progress': 0.0}\n",
            "{'id': 'BHUHMC7PCZUV567QJ5UKHJDG', 'state': 'RUNNING', 'creation_timestamp_ms': 1572526052274, 'update_timestamp_ms': 1572526362113, 'description': 'first test', 'task_type': 'EXPORT_IMAGE', 'start_timestamp_ms': 1572526061993, 'progress': 0.0}\n",
            "{'id': 'BHUHMC7PCZUV567QJ5UKHJDG', 'state': 'RUNNING', 'creation_timestamp_ms': 1572526052274, 'update_timestamp_ms': 1572526362113, 'description': 'first test', 'task_type': 'EXPORT_IMAGE', 'start_timestamp_ms': 1572526061993, 'progress': 0.0}\n",
            "{'id': 'BHUHMC7PCZUV567QJ5UKHJDG', 'state': 'RUNNING', 'creation_timestamp_ms': 1572526052274, 'update_timestamp_ms': 1572526362113, 'description': 'first test', 'task_type': 'EXPORT_IMAGE', 'start_timestamp_ms': 1572526061993, 'progress': 0.0}\n",
            "{'id': 'BHUHMC7PCZUV567QJ5UKHJDG', 'state': 'RUNNING', 'creation_timestamp_ms': 1572526052274, 'update_timestamp_ms': 1572526362113, 'description': 'first test', 'task_type': 'EXPORT_IMAGE', 'start_timestamp_ms': 1572526061993, 'progress': 0.0}\n",
            "{'id': 'BHUHMC7PCZUV567QJ5UKHJDG', 'state': 'RUNNING', 'creation_timestamp_ms': 1572526052274, 'update_timestamp_ms': 1572526362113, 'description': 'first test', 'task_type': 'EXPORT_IMAGE', 'start_timestamp_ms': 1572526061993, 'progress': 0.0}\n",
            "{'id': 'BHUHMC7PCZUV567QJ5UKHJDG', 'state': 'RUNNING', 'creation_timestamp_ms': 1572526052274, 'update_timestamp_ms': 1572526362113, 'description': 'first test', 'task_type': 'EXPORT_IMAGE', 'start_timestamp_ms': 1572526061993, 'progress': 0.0}\n",
            "{'id': 'BHUHMC7PCZUV567QJ5UKHJDG', 'state': 'RUNNING', 'creation_timestamp_ms': 1572526052274, 'update_timestamp_ms': 1572526362113, 'description': 'first test', 'task_type': 'EXPORT_IMAGE', 'start_timestamp_ms': 1572526061993, 'progress': 0.0}\n",
            "{'id': 'BHUHMC7PCZUV567QJ5UKHJDG', 'state': 'RUNNING', 'creation_timestamp_ms': 1572526052274, 'update_timestamp_ms': 1572526362113, 'description': 'first test', 'task_type': 'EXPORT_IMAGE', 'start_timestamp_ms': 1572526061993, 'progress': 0.0}\n",
            "{'id': 'BHUHMC7PCZUV567QJ5UKHJDG', 'state': 'COMPLETED', 'creation_timestamp_ms': 1572526052274, 'update_timestamp_ms': 1572526495672, 'description': 'first test', 'task_type': 'EXPORT_IMAGE', 'output_url': ['https://drive.google.com/#folders/1b_hRWqML8b8TNjDYkfq7UHXBs44AIHaj'], 'start_timestamp_ms': 1572526061993}\n"
          ],
          "name": "stdout"
        }
      ]
    }
  ]
}
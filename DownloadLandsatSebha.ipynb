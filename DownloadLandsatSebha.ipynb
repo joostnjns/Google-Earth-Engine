{
  "nbformat": 4,
  "nbformat_minor": 0,
  "metadata": {
    "colab": {
      "name": "DownloadLandsatSebha.ipynb",
      "provenance": [],
      "collapsed_sections": [],
      "include_colab_link": true
    },
    "kernelspec": {
      "name": "python3",
      "display_name": "Python 3"
    }
  },
  "cells": [
    {
      "cell_type": "markdown",
      "metadata": {
        "id": "view-in-github",
        "colab_type": "text"
      },
      "source": [
        "<a href=\"https://colab.research.google.com/github/joostnjns/Google-Earth-Engine/blob/master/DownloadLandsatSebha.ipynb\" target=\"_parent\"><img src=\"https://colab.research.google.com/assets/colab-badge.svg\" alt=\"Open In Colab\"/></a>"
      ]
    },
    {
      "cell_type": "markdown",
      "metadata": {
        "id": "pyPqit_gl_N6",
        "colab_type": "text"
      },
      "source": [
        "## **Script using the Google Earth Engine API to download Landsat imagery.**"
      ]
    },
    {
      "cell_type": "code",
      "metadata": {
        "id": "MMAWwE26l01K",
        "colab_type": "code",
        "colab": {}
      },
      "source": [
        "# Run only at first run: install python API\n",
        "!pip install earthengine-api"
      ],
      "execution_count": 0,
      "outputs": []
    },
    {
      "cell_type": "code",
      "metadata": {
        "id": "TTUR1SW4FrNu",
        "colab_type": "code",
        "outputId": "7f61e1ca-ef48-470d-a624-e4fa7c879c0f",
        "colab": {
          "base_uri": "https://localhost:8080/",
          "height": 173
        }
      },
      "source": [
        "# Import and authenticate GEE\n",
        "import ee\n",
        "ee.Authenticate()\n",
        "\n",
        "# Get other packages\n",
        "import matplotlib.pyplot as plt\n",
        "from IPython.display import Image\n",
        "import pprint\n",
        "import folium\n",
        "import time"
      ],
      "execution_count": 185,
      "outputs": [
        {
          "output_type": "stream",
          "text": [
            "To authorize access needed by Earth Engine, open the following URL in a web browser and follow the instructions. If the web browser does not start automatically, please manually browse the URL below.\n",
            "\n",
            "    https://accounts.google.com/o/oauth2/auth?client_id=517222506229-vsmmajv00ul0bs7p89v5m89qs8eb9359.apps.googleusercontent.com&scope=https%3A%2F%2Fwww.googleapis.com%2Fauth%2Fearthengine+https%3A%2F%2Fwww.googleapis.com%2Fauth%2Fdevstorage.full_control&redirect_uri=urn%3Aietf%3Awg%3Aoauth%3A2.0%3Aoob&response_type=code\n",
            "\n",
            "The authorization workflow will generate a code, which you should paste in the box below. \n",
            "Enter verification code: 4/swEHfo2nhVYp0foCyMDXUWE5vKhnMlsB_-e-h0IclZzW84S0RrSq0hU\n",
            "\n",
            "Successfully saved authorization token.\n"
          ],
          "name": "stdout"
        }
      ]
    },
    {
      "cell_type": "code",
      "metadata": {
        "id": "AFSiSqVGGb6X",
        "colab_type": "code",
        "colab": {}
      },
      "source": [
        "# Download a Landsat image based on some parameters\n",
        "\n",
        "# LANDSAT/LT05/C01/T1_SR meaning:\n",
        "# Look into the ImageCollections of Landsat. \n",
        "# In our case use Landsat 5 sensors. \n",
        "# USGS processes them in 'collections', with collection 1 (C01) as the only option.\n",
        "# To get the surface reflectane datasat for collection 1, use T1_SR (tier 1)"
      ],
      "execution_count": 0,
      "outputs": []
    },
    {
      "cell_type": "code",
      "metadata": {
        "id": "3bPjnADwE9bh",
        "colab_type": "code",
        "colab": {}
      },
      "source": [
        "### Filter Landsat collection based on dates, AOI and other image metadata\n",
        "\n",
        "# Set AOI for imagery\n",
        "aoi = ee.Geometry.Rectangle([14.24, 26.92, 14.58, 27.14])\n",
        "\n",
        "# Create RGB scene\n",
        "RGBcollection = collection = ee.ImageCollection('LANDSAT/LT05/C01/T1_SR').filterDate('1995-01-01', '1995-01-30').filterBounds(aoi).filterMetadata('IMAGE_QUALITY', 'equals', 9).select(['B3', 'B2', 'B1'])\n",
        "RGBscene = collection.sort('CLOUD COVER').first()\n",
        "RGBsceneURL = final.getThumbURL()\n",
        "\n",
        "# Create full 7-band scene\n",
        "collection = ee.ImageCollection('LANDSAT/LT05/C01/T1_SR').filterDate('1995-01-01', '1995-01-30').filterBounds(aoi).filterMetadata('IMAGE_QUALITY', 'equals', 9).select(['B1', 'B2', 'B3', 'B4', 'B5', 'B6', 'B7'])\n",
        "scene = collection.sort('CLOUD COVER').first()\n",
        "sceneURL = final.getThumbURL()\n",
        "#sceneURL.getInfo()\n",
        "\n",
        "# Metadata bands\n",
        "metaCollection = ee.ImageCollection('LANDSAT/LT05/C01/T1_SR').filterDate('1995-01-01', '1995-01-30').filterBounds(aoi).filterMetadata('IMAGE_QUALITY', 'equals', 9).select(['sr_atmos_opacity', 'sr_cloud_qa', 'pixel_qa', 'radsat_qa'])\n",
        "atm_opac = metaCollection.sort('CLOUD COVER').first().select(['sr_atmos_opacity'])  # atmospheric opacity\n",
        "sr_cloud_qa = metaCollection.sort('CLOUD COVER').first().select(['sr_cloud_qa'])  # surface reflectance cloud quality: indicating which pixels might be affected by instrument artifacts or subject to cloud contamination\n",
        "pixel_qa = metaCollection.sort('CLOUD COVER').first().select(['pixel_qa'])\n",
        "radsat_qa = metaCollection.sort('CLOUD COVER').first().select(['radsat_qa'])"
      ],
      "execution_count": 0,
      "outputs": []
    },
    {
      "cell_type": "code",
      "metadata": {
        "id": "QrwABYzrioyl",
        "colab_type": "code",
        "outputId": "cb12c54f-f387-48cf-f1cc-d9caaebad945",
        "colab": {
          "base_uri": "https://localhost:8080/",
          "height": 1000
        }
      },
      "source": [
        "### Inspect the image.\n",
        "\n",
        "# Define a method for displaying Earth Engine image tiles to folium map.\n",
        "def add_ee_layer(self, eeImageObject, visParams, name):\n",
        "  mapID = ee.Image(eeImageObject).getMapId(visParams)\n",
        "  folium.raster_layers.TileLayer(\n",
        "    tiles = \"https://earthengine.googleapis.com/map/\"+mapID['mapid']+\n",
        "      \"/{z}/{x}/{y}?token=\"+mapID['token'],\n",
        "    attr = \"Map Data &copy; <a href='https://earthengine.google.com/'>Google Earth Engine</a>\",\n",
        "    name = name,\n",
        "    overlay = True,\n",
        "    control = True\n",
        "  ).add_to(self)\n",
        "\n",
        "# Add EE drawing method to folium.\n",
        "folium.Map.add_ee_layer = add_ee_layer\n",
        "# Set visualization parameters.\n",
        "visParams = {'min':0, 'max':3000}\n",
        "# Create a folium map object.\n",
        "myMap = folium.Map(location=[27.05, 14.45], width = 900, height = 700, zoom_start=12)\n",
        "# Add the elevation model to the map object.\n",
        "myMap.add_ee_layer(RGBscene, visParams, 'Sebha')\n",
        "# Add a layer control panel to the map.\n",
        "myMap.add_child(folium.LayerControl())\n",
        "# Display the map.\n",
        "display(myMap)"
      ],
      "execution_count": 319,
      "outputs": [
        {
          "output_type": "display_data",
          "data": {
            "text/html": [
              "<div style=\"width:100%;\"><div style=\"position:relative;width:100%;height:0;padding-bottom:60%;\"><iframe src=\"data:text/html;charset=utf-8;base64,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\" style=\"position:absolute;width:100%;height:100%;left:0;top:0;border:none !important;\" allowfullscreen webkitallowfullscreen mozallowfullscreen></iframe></div></div>"
            ],
            "text/plain": [
              "<folium.folium.Map at 0x7f7ea45d6128>"
            ]
          },
          "metadata": {
            "tags": []
          }
        }
      ]
    },
    {
      "cell_type": "code",
      "metadata": {
        "id": "OWTSZAtRhIF0",
        "colab_type": "code",
        "colab": {}
      },
      "source": [
        "\"\"\"\n",
        "# If you just want to plot the image\n",
        "#sceneUrl = scene.getThumbUrl()\n",
        "#Image(url=sceneUrl)\n",
        "\"\"\"\n",
        "\n",
        "\"\"\"\n",
        "# One way of using folium\n",
        "# only get grey values?\n",
        "map = folium.Map(location=[27.05, 14.45], zoom_start=10, height=500)\n",
        "folium.raster_layers.ImageOverlay(\n",
        "    image=RGBsceneURL,\n",
        "    bounds=[[26.92,14.24],[27.14, 14.58]],\n",
        "    colormap=lambda x: (1.4, 1.2, 1, 1),#R,G,B,alpha\n",
        ").add_to(map)\n",
        "map.add_child(folium.LayerControl())\n",
        "map\n",
        "\"\"\"\n",
        "\n",
        "\"\"\"# Another way of using follium\n",
        "mapid = final.getMapId\n",
        "m = folium.Map(location=[27.05, 14.45], tiles = \"Stamen Terrain\", width = '30%', height = '50%', zoom_start = 12)\n",
        "m.add_child(folium.raster_layers.ImageOverlay(first, opacity=.7, bounds=[[26.92, 14.24], [27.14, 14.58]], colormap='orange'))\n",
        "m \"\"\""
      ],
      "execution_count": 0,
      "outputs": []
    },
    {
      "cell_type": "code",
      "metadata": {
        "id": "SdOYF7FdnRH1",
        "colab_type": "code",
        "outputId": "9ccf872a-c56b-49f4-a374-05f4ac89d7f6",
        "colab": {
          "base_uri": "https://localhost:8080/",
          "height": 1000
        }
      },
      "source": [
        "# Export the image, specifying scale and region.\n",
        "##Export.image.toDrive({image: scene, description: 'imageToDriveExample', scale: 30, region: aoi});\n",
        "\n",
        "task_config = {\n",
        "    'scale': 30,\n",
        "    'fileFormat': 'GeoTIFF',\n",
        "    'skipEmptyTiles': True,\n",
        "    'folder': 'Sebha1995'\n",
        "    }\n",
        "\n",
        "files = ['sebha_1995_rgb', 'sebha_1995_full']\n",
        "filenames = [RGBscene, scene]\n",
        "\n",
        "for i in range(1,len(files)):\n",
        "  task = ee.batch.Export.image.toDrive(filenames[i], files[i], **task_config)\n",
        "  task.start()\n",
        "  # Monitor the task.\n",
        "  while task.status()['state'] in ['READY', 'RUNNING']:\n",
        "    print(task.status())\n",
        "    time.sleep(10)\n",
        "  else:\n",
        "    print(task.status())"
      ],
      "execution_count": 326,
      "outputs": [
        {
          "output_type": "stream",
          "text": [
            "{'id': '7BOPYYUJE2CSJZD2JBJF5VQC', 'state': 'READY', 'creation_timestamp_ms': 1572539310392, 'update_timestamp_ms': 1572539310392, 'description': 'sebha_1995_full', 'task_type': 'EXPORT_IMAGE'}\n",
            "{'id': '7BOPYYUJE2CSJZD2JBJF5VQC', 'state': 'RUNNING', 'creation_timestamp_ms': 1572539310392, 'update_timestamp_ms': 1572539315732, 'description': 'sebha_1995_full', 'task_type': 'EXPORT_IMAGE', 'start_timestamp_ms': 1572539315595, 'progress': 0.0}\n",
            "{'id': '7BOPYYUJE2CSJZD2JBJF5VQC', 'state': 'RUNNING', 'creation_timestamp_ms': 1572539310392, 'update_timestamp_ms': 1572539315732, 'description': 'sebha_1995_full', 'task_type': 'EXPORT_IMAGE', 'start_timestamp_ms': 1572539315595, 'progress': 0.0}\n",
            "{'id': '7BOPYYUJE2CSJZD2JBJF5VQC', 'state': 'RUNNING', 'creation_timestamp_ms': 1572539310392, 'update_timestamp_ms': 1572539315732, 'description': 'sebha_1995_full', 'task_type': 'EXPORT_IMAGE', 'start_timestamp_ms': 1572539315595, 'progress': 0.0}\n",
            "{'id': '7BOPYYUJE2CSJZD2JBJF5VQC', 'state': 'RUNNING', 'creation_timestamp_ms': 1572539310392, 'update_timestamp_ms': 1572539315732, 'description': 'sebha_1995_full', 'task_type': 'EXPORT_IMAGE', 'start_timestamp_ms': 1572539315595, 'progress': 0.0}\n",
            "{'id': '7BOPYYUJE2CSJZD2JBJF5VQC', 'state': 'RUNNING', 'creation_timestamp_ms': 1572539310392, 'update_timestamp_ms': 1572539315732, 'description': 'sebha_1995_full', 'task_type': 'EXPORT_IMAGE', 'start_timestamp_ms': 1572539315595, 'progress': 0.0}\n",
            "{'id': '7BOPYYUJE2CSJZD2JBJF5VQC', 'state': 'RUNNING', 'creation_timestamp_ms': 1572539310392, 'update_timestamp_ms': 1572539315732, 'description': 'sebha_1995_full', 'task_type': 'EXPORT_IMAGE', 'start_timestamp_ms': 1572539315595, 'progress': 0.0}\n",
            "{'id': '7BOPYYUJE2CSJZD2JBJF5VQC', 'state': 'RUNNING', 'creation_timestamp_ms': 1572539310392, 'update_timestamp_ms': 1572539315732, 'description': 'sebha_1995_full', 'task_type': 'EXPORT_IMAGE', 'start_timestamp_ms': 1572539315595, 'progress': 0.0}\n",
            "{'id': '7BOPYYUJE2CSJZD2JBJF5VQC', 'state': 'RUNNING', 'creation_timestamp_ms': 1572539310392, 'update_timestamp_ms': 1572539315732, 'description': 'sebha_1995_full', 'task_type': 'EXPORT_IMAGE', 'start_timestamp_ms': 1572539315595, 'progress': 0.0}\n",
            "{'id': '7BOPYYUJE2CSJZD2JBJF5VQC', 'state': 'RUNNING', 'creation_timestamp_ms': 1572539310392, 'update_timestamp_ms': 1572539315732, 'description': 'sebha_1995_full', 'task_type': 'EXPORT_IMAGE', 'start_timestamp_ms': 1572539315595, 'progress': 0.0}\n",
            "{'id': '7BOPYYUJE2CSJZD2JBJF5VQC', 'state': 'RUNNING', 'creation_timestamp_ms': 1572539310392, 'update_timestamp_ms': 1572539315732, 'description': 'sebha_1995_full', 'task_type': 'EXPORT_IMAGE', 'start_timestamp_ms': 1572539315595, 'progress': 0.0}\n",
            "{'id': '7BOPYYUJE2CSJZD2JBJF5VQC', 'state': 'RUNNING', 'creation_timestamp_ms': 1572539310392, 'update_timestamp_ms': 1572539315732, 'description': 'sebha_1995_full', 'task_type': 'EXPORT_IMAGE', 'start_timestamp_ms': 1572539315595, 'progress': 0.0}\n",
            "{'id': '7BOPYYUJE2CSJZD2JBJF5VQC', 'state': 'RUNNING', 'creation_timestamp_ms': 1572539310392, 'update_timestamp_ms': 1572539315732, 'description': 'sebha_1995_full', 'task_type': 'EXPORT_IMAGE', 'start_timestamp_ms': 1572539315595, 'progress': 0.0}\n",
            "{'id': '7BOPYYUJE2CSJZD2JBJF5VQC', 'state': 'RUNNING', 'creation_timestamp_ms': 1572539310392, 'update_timestamp_ms': 1572539315732, 'description': 'sebha_1995_full', 'task_type': 'EXPORT_IMAGE', 'start_timestamp_ms': 1572539315595, 'progress': 0.0}\n",
            "{'id': '7BOPYYUJE2CSJZD2JBJF5VQC', 'state': 'RUNNING', 'creation_timestamp_ms': 1572539310392, 'update_timestamp_ms': 1572539465712, 'description': 'sebha_1995_full', 'task_type': 'EXPORT_IMAGE', 'start_timestamp_ms': 1572539315595, 'progress': 0.0}\n",
            "{'id': '7BOPYYUJE2CSJZD2JBJF5VQC', 'state': 'RUNNING', 'creation_timestamp_ms': 1572539310392, 'update_timestamp_ms': 1572539465712, 'description': 'sebha_1995_full', 'task_type': 'EXPORT_IMAGE', 'start_timestamp_ms': 1572539315595, 'progress': 0.0}\n",
            "{'id': '7BOPYYUJE2CSJZD2JBJF5VQC', 'state': 'RUNNING', 'creation_timestamp_ms': 1572539310392, 'update_timestamp_ms': 1572539465712, 'description': 'sebha_1995_full', 'task_type': 'EXPORT_IMAGE', 'start_timestamp_ms': 1572539315595, 'progress': 0.0}\n",
            "{'id': '7BOPYYUJE2CSJZD2JBJF5VQC', 'state': 'RUNNING', 'creation_timestamp_ms': 1572539310392, 'update_timestamp_ms': 1572539465712, 'description': 'sebha_1995_full', 'task_type': 'EXPORT_IMAGE', 'start_timestamp_ms': 1572539315595, 'progress': 0.0}\n",
            "{'id': '7BOPYYUJE2CSJZD2JBJF5VQC', 'state': 'RUNNING', 'creation_timestamp_ms': 1572539310392, 'update_timestamp_ms': 1572539465712, 'description': 'sebha_1995_full', 'task_type': 'EXPORT_IMAGE', 'start_timestamp_ms': 1572539315595, 'progress': 0.0}\n",
            "{'id': '7BOPYYUJE2CSJZD2JBJF5VQC', 'state': 'RUNNING', 'creation_timestamp_ms': 1572539310392, 'update_timestamp_ms': 1572539465712, 'description': 'sebha_1995_full', 'task_type': 'EXPORT_IMAGE', 'start_timestamp_ms': 1572539315595, 'progress': 0.0}\n",
            "{'id': '7BOPYYUJE2CSJZD2JBJF5VQC', 'state': 'RUNNING', 'creation_timestamp_ms': 1572539310392, 'update_timestamp_ms': 1572539465712, 'description': 'sebha_1995_full', 'task_type': 'EXPORT_IMAGE', 'start_timestamp_ms': 1572539315595, 'progress': 0.0}\n",
            "{'id': '7BOPYYUJE2CSJZD2JBJF5VQC', 'state': 'RUNNING', 'creation_timestamp_ms': 1572539310392, 'update_timestamp_ms': 1572539465712, 'description': 'sebha_1995_full', 'task_type': 'EXPORT_IMAGE', 'start_timestamp_ms': 1572539315595, 'progress': 0.0}\n",
            "{'id': '7BOPYYUJE2CSJZD2JBJF5VQC', 'state': 'RUNNING', 'creation_timestamp_ms': 1572539310392, 'update_timestamp_ms': 1572539465712, 'description': 'sebha_1995_full', 'task_type': 'EXPORT_IMAGE', 'start_timestamp_ms': 1572539315595, 'progress': 0.0}\n",
            "{'id': '7BOPYYUJE2CSJZD2JBJF5VQC', 'state': 'RUNNING', 'creation_timestamp_ms': 1572539310392, 'update_timestamp_ms': 1572539465712, 'description': 'sebha_1995_full', 'task_type': 'EXPORT_IMAGE', 'start_timestamp_ms': 1572539315595, 'progress': 0.0}\n",
            "{'id': '7BOPYYUJE2CSJZD2JBJF5VQC', 'state': 'RUNNING', 'creation_timestamp_ms': 1572539310392, 'update_timestamp_ms': 1572539465712, 'description': 'sebha_1995_full', 'task_type': 'EXPORT_IMAGE', 'start_timestamp_ms': 1572539315595, 'progress': 0.0}\n",
            "{'id': '7BOPYYUJE2CSJZD2JBJF5VQC', 'state': 'RUNNING', 'creation_timestamp_ms': 1572539310392, 'update_timestamp_ms': 1572539465712, 'description': 'sebha_1995_full', 'task_type': 'EXPORT_IMAGE', 'start_timestamp_ms': 1572539315595, 'progress': 0.0}\n",
            "{'id': '7BOPYYUJE2CSJZD2JBJF5VQC', 'state': 'RUNNING', 'creation_timestamp_ms': 1572539310392, 'update_timestamp_ms': 1572539465712, 'description': 'sebha_1995_full', 'task_type': 'EXPORT_IMAGE', 'start_timestamp_ms': 1572539315595, 'progress': 0.0}\n",
            "{'id': '7BOPYYUJE2CSJZD2JBJF5VQC', 'state': 'RUNNING', 'creation_timestamp_ms': 1572539310392, 'update_timestamp_ms': 1572539615710, 'description': 'sebha_1995_full', 'task_type': 'EXPORT_IMAGE', 'start_timestamp_ms': 1572539315595, 'progress': 0.0}\n",
            "{'id': '7BOPYYUJE2CSJZD2JBJF5VQC', 'state': 'RUNNING', 'creation_timestamp_ms': 1572539310392, 'update_timestamp_ms': 1572539615710, 'description': 'sebha_1995_full', 'task_type': 'EXPORT_IMAGE', 'start_timestamp_ms': 1572539315595, 'progress': 0.0}\n",
            "{'id': '7BOPYYUJE2CSJZD2JBJF5VQC', 'state': 'RUNNING', 'creation_timestamp_ms': 1572539310392, 'update_timestamp_ms': 1572539615710, 'description': 'sebha_1995_full', 'task_type': 'EXPORT_IMAGE', 'start_timestamp_ms': 1572539315595, 'progress': 0.0}\n",
            "{'id': '7BOPYYUJE2CSJZD2JBJF5VQC', 'state': 'RUNNING', 'creation_timestamp_ms': 1572539310392, 'update_timestamp_ms': 1572539615710, 'description': 'sebha_1995_full', 'task_type': 'EXPORT_IMAGE', 'start_timestamp_ms': 1572539315595, 'progress': 0.0}\n",
            "{'id': '7BOPYYUJE2CSJZD2JBJF5VQC', 'state': 'RUNNING', 'creation_timestamp_ms': 1572539310392, 'update_timestamp_ms': 1572539615710, 'description': 'sebha_1995_full', 'task_type': 'EXPORT_IMAGE', 'start_timestamp_ms': 1572539315595, 'progress': 0.0}\n",
            "{'id': '7BOPYYUJE2CSJZD2JBJF5VQC', 'state': 'RUNNING', 'creation_timestamp_ms': 1572539310392, 'update_timestamp_ms': 1572539615710, 'description': 'sebha_1995_full', 'task_type': 'EXPORT_IMAGE', 'start_timestamp_ms': 1572539315595, 'progress': 0.0}\n",
            "{'id': '7BOPYYUJE2CSJZD2JBJF5VQC', 'state': 'RUNNING', 'creation_timestamp_ms': 1572539310392, 'update_timestamp_ms': 1572539615710, 'description': 'sebha_1995_full', 'task_type': 'EXPORT_IMAGE', 'start_timestamp_ms': 1572539315595, 'progress': 0.0}\n",
            "{'id': '7BOPYYUJE2CSJZD2JBJF5VQC', 'state': 'RUNNING', 'creation_timestamp_ms': 1572539310392, 'update_timestamp_ms': 1572539615710, 'description': 'sebha_1995_full', 'task_type': 'EXPORT_IMAGE', 'start_timestamp_ms': 1572539315595, 'progress': 0.0}\n",
            "{'id': '7BOPYYUJE2CSJZD2JBJF5VQC', 'state': 'RUNNING', 'creation_timestamp_ms': 1572539310392, 'update_timestamp_ms': 1572539615710, 'description': 'sebha_1995_full', 'task_type': 'EXPORT_IMAGE', 'start_timestamp_ms': 1572539315595, 'progress': 0.0}\n",
            "{'id': '7BOPYYUJE2CSJZD2JBJF5VQC', 'state': 'RUNNING', 'creation_timestamp_ms': 1572539310392, 'update_timestamp_ms': 1572539615710, 'description': 'sebha_1995_full', 'task_type': 'EXPORT_IMAGE', 'start_timestamp_ms': 1572539315595, 'progress': 0.0}\n",
            "{'id': '7BOPYYUJE2CSJZD2JBJF5VQC', 'state': 'RUNNING', 'creation_timestamp_ms': 1572539310392, 'update_timestamp_ms': 1572539615710, 'description': 'sebha_1995_full', 'task_type': 'EXPORT_IMAGE', 'start_timestamp_ms': 1572539315595, 'progress': 0.0}\n",
            "{'id': '7BOPYYUJE2CSJZD2JBJF5VQC', 'state': 'RUNNING', 'creation_timestamp_ms': 1572539310392, 'update_timestamp_ms': 1572539615710, 'description': 'sebha_1995_full', 'task_type': 'EXPORT_IMAGE', 'start_timestamp_ms': 1572539315595, 'progress': 0.0}\n",
            "{'id': '7BOPYYUJE2CSJZD2JBJF5VQC', 'state': 'RUNNING', 'creation_timestamp_ms': 1572539310392, 'update_timestamp_ms': 1572539615710, 'description': 'sebha_1995_full', 'task_type': 'EXPORT_IMAGE', 'start_timestamp_ms': 1572539315595, 'progress': 0.0}\n",
            "{'id': '7BOPYYUJE2CSJZD2JBJF5VQC', 'state': 'RUNNING', 'creation_timestamp_ms': 1572539310392, 'update_timestamp_ms': 1572539765716, 'description': 'sebha_1995_full', 'task_type': 'EXPORT_IMAGE', 'start_timestamp_ms': 1572539315595, 'progress': 0.0}\n",
            "{'id': '7BOPYYUJE2CSJZD2JBJF5VQC', 'state': 'RUNNING', 'creation_timestamp_ms': 1572539310392, 'update_timestamp_ms': 1572539765716, 'description': 'sebha_1995_full', 'task_type': 'EXPORT_IMAGE', 'start_timestamp_ms': 1572539315595, 'progress': 0.0}\n",
            "{'id': '7BOPYYUJE2CSJZD2JBJF5VQC', 'state': 'RUNNING', 'creation_timestamp_ms': 1572539310392, 'update_timestamp_ms': 1572539765716, 'description': 'sebha_1995_full', 'task_type': 'EXPORT_IMAGE', 'start_timestamp_ms': 1572539315595, 'progress': 0.0}\n",
            "{'id': '7BOPYYUJE2CSJZD2JBJF5VQC', 'state': 'RUNNING', 'creation_timestamp_ms': 1572539310392, 'update_timestamp_ms': 1572539765716, 'description': 'sebha_1995_full', 'task_type': 'EXPORT_IMAGE', 'start_timestamp_ms': 1572539315595, 'progress': 0.0}\n",
            "{'id': '7BOPYYUJE2CSJZD2JBJF5VQC', 'state': 'RUNNING', 'creation_timestamp_ms': 1572539310392, 'update_timestamp_ms': 1572539765716, 'description': 'sebha_1995_full', 'task_type': 'EXPORT_IMAGE', 'start_timestamp_ms': 1572539315595, 'progress': 0.0}\n",
            "{'id': '7BOPYYUJE2CSJZD2JBJF5VQC', 'state': 'RUNNING', 'creation_timestamp_ms': 1572539310392, 'update_timestamp_ms': 1572539765716, 'description': 'sebha_1995_full', 'task_type': 'EXPORT_IMAGE', 'start_timestamp_ms': 1572539315595, 'progress': 0.0}\n",
            "{'id': '7BOPYYUJE2CSJZD2JBJF5VQC', 'state': 'RUNNING', 'creation_timestamp_ms': 1572539310392, 'update_timestamp_ms': 1572539765716, 'description': 'sebha_1995_full', 'task_type': 'EXPORT_IMAGE', 'start_timestamp_ms': 1572539315595, 'progress': 0.0}\n",
            "{'id': '7BOPYYUJE2CSJZD2JBJF5VQC', 'state': 'RUNNING', 'creation_timestamp_ms': 1572539310392, 'update_timestamp_ms': 1572539765716, 'description': 'sebha_1995_full', 'task_type': 'EXPORT_IMAGE', 'start_timestamp_ms': 1572539315595, 'progress': 0.0}\n",
            "{'id': '7BOPYYUJE2CSJZD2JBJF5VQC', 'state': 'RUNNING', 'creation_timestamp_ms': 1572539310392, 'update_timestamp_ms': 1572539765716, 'description': 'sebha_1995_full', 'task_type': 'EXPORT_IMAGE', 'start_timestamp_ms': 1572539315595, 'progress': 0.0}\n",
            "{'id': '7BOPYYUJE2CSJZD2JBJF5VQC', 'state': 'RUNNING', 'creation_timestamp_ms': 1572539310392, 'update_timestamp_ms': 1572539765716, 'description': 'sebha_1995_full', 'task_type': 'EXPORT_IMAGE', 'start_timestamp_ms': 1572539315595, 'progress': 0.0}\n",
            "{'id': '7BOPYYUJE2CSJZD2JBJF5VQC', 'state': 'RUNNING', 'creation_timestamp_ms': 1572539310392, 'update_timestamp_ms': 1572539765716, 'description': 'sebha_1995_full', 'task_type': 'EXPORT_IMAGE', 'start_timestamp_ms': 1572539315595, 'progress': 0.0}\n",
            "{'id': '7BOPYYUJE2CSJZD2JBJF5VQC', 'state': 'RUNNING', 'creation_timestamp_ms': 1572539310392, 'update_timestamp_ms': 1572539765716, 'description': 'sebha_1995_full', 'task_type': 'EXPORT_IMAGE', 'start_timestamp_ms': 1572539315595, 'progress': 0.0}\n",
            "{'id': '7BOPYYUJE2CSJZD2JBJF5VQC', 'state': 'RUNNING', 'creation_timestamp_ms': 1572539310392, 'update_timestamp_ms': 1572539765716, 'description': 'sebha_1995_full', 'task_type': 'EXPORT_IMAGE', 'start_timestamp_ms': 1572539315595, 'progress': 0.0}\n",
            "{'id': '7BOPYYUJE2CSJZD2JBJF5VQC', 'state': 'RUNNING', 'creation_timestamp_ms': 1572539310392, 'update_timestamp_ms': 1572539915711, 'description': 'sebha_1995_full', 'task_type': 'EXPORT_IMAGE', 'start_timestamp_ms': 1572539315595, 'progress': 0.0}\n",
            "{'id': '7BOPYYUJE2CSJZD2JBJF5VQC', 'state': 'RUNNING', 'creation_timestamp_ms': 1572539310392, 'update_timestamp_ms': 1572539915711, 'description': 'sebha_1995_full', 'task_type': 'EXPORT_IMAGE', 'start_timestamp_ms': 1572539315595, 'progress': 0.0}\n",
            "{'id': '7BOPYYUJE2CSJZD2JBJF5VQC', 'state': 'RUNNING', 'creation_timestamp_ms': 1572539310392, 'update_timestamp_ms': 1572539941546, 'description': 'sebha_1995_full', 'task_type': 'EXPORT_IMAGE', 'start_timestamp_ms': 1572539315595, 'progress': 0.5}\n",
            "{'id': '7BOPYYUJE2CSJZD2JBJF5VQC', 'state': 'COMPLETED', 'creation_timestamp_ms': 1572539310392, 'update_timestamp_ms': 1572539943387, 'description': 'sebha_1995_full', 'task_type': 'EXPORT_IMAGE', 'output_url': ['https://drive.google.com/#folders/18ADUR8hr5HUsxswhGpJhUQT6BpGPpdWC'], 'start_timestamp_ms': 1572539315595}\n"
          ],
          "name": "stdout"
        }
      ]
    },
    {
      "cell_type": "code",
      "metadata": {
        "id": "2Tq_9uaVlqTR",
        "colab_type": "code",
        "colab": {}
      },
      "source": [
        ""
      ],
      "execution_count": 0,
      "outputs": []
    }
  ]
}
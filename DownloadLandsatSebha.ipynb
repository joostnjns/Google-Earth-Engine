{
  "nbformat": 4,
  "nbformat_minor": 0,
  "metadata": {
    "colab": {
      "name": "DownloadLandsatSebha.ipynb",
      "provenance": [],
      "collapsed_sections": [],
      "include_colab_link": true
    },
    "kernelspec": {
      "name": "python3",
      "display_name": "Python 3"
    }
  },
  "cells": [
    {
      "cell_type": "markdown",
      "metadata": {
        "id": "view-in-github",
        "colab_type": "text"
      },
      "source": [
        "<a href=\"https://colab.research.google.com/github/joostnjns/Google-Earth-Engine/blob/master/DownloadLandsatSebha.ipynb\" target=\"_parent\"><img src=\"https://colab.research.google.com/assets/colab-badge.svg\" alt=\"Open In Colab\"/></a>"
      ]
    },
    {
      "cell_type": "markdown",
      "metadata": {
        "id": "pyPqit_gl_N6",
        "colab_type": "text"
      },
      "source": [
        "## **Script using the Google Earth Engine API to download Landsat imagery.**"
      ]
    },
    {
      "cell_type": "code",
      "metadata": {
        "id": "MMAWwE26l01K",
        "colab_type": "code",
        "outputId": "3d5f4f58-181d-4ca3-cc1d-207213b30edd",
        "colab": {
          "base_uri": "https://localhost:8080/",
          "height": 598
        }
      },
      "source": [
        "# Run only at first run: install python API\n",
        "!pip install earthengine-api"
      ],
      "execution_count": 0,
      "outputs": [
        {
          "output_type": "stream",
          "text": [
            "Requirement already satisfied: earthengine-api in /usr/local/lib/python3.6/dist-packages (0.1.204)\n",
            "Requirement already satisfied: google-cloud-storage in /usr/local/lib/python3.6/dist-packages (from earthengine-api) (1.16.2)\n",
            "Requirement already satisfied: httplib2<1dev,>=0.9.2 in /usr/local/lib/python3.6/dist-packages (from earthengine-api) (0.11.3)\n",
            "Requirement already satisfied: google-auth-httplib2>=0.0.3 in /usr/local/lib/python3.6/dist-packages (from earthengine-api) (0.0.3)\n",
            "Requirement already satisfied: future in /usr/local/lib/python3.6/dist-packages (from earthengine-api) (0.16.0)\n",
            "Requirement already satisfied: google-api-python-client in /usr/local/lib/python3.6/dist-packages (from earthengine-api) (1.7.11)\n",
            "Requirement already satisfied: google-auth>=1.4.1 in /usr/local/lib/python3.6/dist-packages (from earthengine-api) (1.4.2)\n",
            "Requirement already satisfied: six in /usr/local/lib/python3.6/dist-packages (from earthengine-api) (1.12.0)\n",
            "Requirement already satisfied: google-resumable-media<0.5.0dev,>=0.3.1 in /usr/local/lib/python3.6/dist-packages (from google-cloud-storage->earthengine-api) (0.4.1)\n",
            "Requirement already satisfied: google-cloud-core<2.0dev,>=1.0.0 in /usr/local/lib/python3.6/dist-packages (from google-cloud-storage->earthengine-api) (1.0.3)\n",
            "Requirement already satisfied: uritemplate<4dev,>=3.0.0 in /usr/local/lib/python3.6/dist-packages (from google-api-python-client->earthengine-api) (3.0.0)\n",
            "Requirement already satisfied: pyasn1-modules>=0.2.1 in /usr/local/lib/python3.6/dist-packages (from google-auth>=1.4.1->earthengine-api) (0.2.7)\n",
            "Requirement already satisfied: rsa>=3.1.4 in /usr/local/lib/python3.6/dist-packages (from google-auth>=1.4.1->earthengine-api) (4.0)\n",
            "Requirement already satisfied: cachetools>=2.0.0 in /usr/local/lib/python3.6/dist-packages (from google-auth>=1.4.1->earthengine-api) (3.1.1)\n",
            "Requirement already satisfied: google-api-core<2.0.0dev,>=1.14.0 in /usr/local/lib/python3.6/dist-packages (from google-cloud-core<2.0dev,>=1.0.0->google-cloud-storage->earthengine-api) (1.14.3)\n",
            "Requirement already satisfied: pyasn1<0.5.0,>=0.4.6 in /usr/local/lib/python3.6/dist-packages (from pyasn1-modules>=0.2.1->google-auth>=1.4.1->earthengine-api) (0.4.7)\n",
            "Requirement already satisfied: setuptools>=34.0.0 in /usr/local/lib/python3.6/dist-packages (from google-api-core<2.0.0dev,>=1.14.0->google-cloud-core<2.0dev,>=1.0.0->google-cloud-storage->earthengine-api) (41.4.0)\n",
            "Requirement already satisfied: protobuf>=3.4.0 in /usr/local/lib/python3.6/dist-packages (from google-api-core<2.0.0dev,>=1.14.0->google-cloud-core<2.0dev,>=1.0.0->google-cloud-storage->earthengine-api) (3.10.0)\n",
            "Requirement already satisfied: pytz in /usr/local/lib/python3.6/dist-packages (from google-api-core<2.0.0dev,>=1.14.0->google-cloud-core<2.0dev,>=1.0.0->google-cloud-storage->earthengine-api) (2018.9)\n",
            "Requirement already satisfied: requests<3.0.0dev,>=2.18.0 in /usr/local/lib/python3.6/dist-packages (from google-api-core<2.0.0dev,>=1.14.0->google-cloud-core<2.0dev,>=1.0.0->google-cloud-storage->earthengine-api) (2.21.0)\n",
            "Requirement already satisfied: googleapis-common-protos<2.0dev,>=1.6.0 in /usr/local/lib/python3.6/dist-packages (from google-api-core<2.0.0dev,>=1.14.0->google-cloud-core<2.0dev,>=1.0.0->google-cloud-storage->earthengine-api) (1.6.0)\n",
            "Requirement already satisfied: idna<2.9,>=2.5 in /usr/local/lib/python3.6/dist-packages (from requests<3.0.0dev,>=2.18.0->google-api-core<2.0.0dev,>=1.14.0->google-cloud-core<2.0dev,>=1.0.0->google-cloud-storage->earthengine-api) (2.8)\n",
            "Requirement already satisfied: chardet<3.1.0,>=3.0.2 in /usr/local/lib/python3.6/dist-packages (from requests<3.0.0dev,>=2.18.0->google-api-core<2.0.0dev,>=1.14.0->google-cloud-core<2.0dev,>=1.0.0->google-cloud-storage->earthengine-api) (3.0.4)\n",
            "Requirement already satisfied: certifi>=2017.4.17 in /usr/local/lib/python3.6/dist-packages (from requests<3.0.0dev,>=2.18.0->google-api-core<2.0.0dev,>=1.14.0->google-cloud-core<2.0dev,>=1.0.0->google-cloud-storage->earthengine-api) (2019.9.11)\n",
            "Requirement already satisfied: urllib3<1.25,>=1.21.1 in /usr/local/lib/python3.6/dist-packages (from requests<3.0.0dev,>=2.18.0->google-api-core<2.0.0dev,>=1.14.0->google-cloud-core<2.0dev,>=1.0.0->google-cloud-storage->earthengine-api) (1.24.3)\n",
            "To authorize access needed by Earth Engine, open the following URL in a web browser and follow the instructions. If the web browser does not start automatically, please manually browse the URL below.\n",
            "\n",
            "    https://accounts.google.com/o/oauth2/auth?client_id=517222506229-vsmmajv00ul0bs7p89v5m89qs8eb9359.apps.googleusercontent.com&scope=https%3A%2F%2Fwww.googleapis.com%2Fauth%2Fearthengine+https%3A%2F%2Fwww.googleapis.com%2Fauth%2Fdevstorage.full_control&redirect_uri=urn%3Aietf%3Awg%3Aoauth%3A2.0%3Aoob&response_type=code\n",
            "\n",
            "The authorization workflow will generate a code, which you should paste in the box below. \n",
            "Enter verification code: 4/sgECD9CBvTwfNXbmYahxnXQGUxVqthMEEXzURl7Mql3Jb2exuwwGB3M\n",
            "\n",
            "Successfully saved authorization token.\n"
          ],
          "name": "stdout"
        }
      ]
    },
    {
      "cell_type": "code",
      "metadata": {
        "id": "TTUR1SW4FrNu",
        "colab_type": "code",
        "colab": {
          "base_uri": "https://localhost:8080/",
          "height": 173
        },
        "outputId": "6fbd7957-e272-469f-e3d8-795262fc7cf5"
      },
      "source": [
        "import ee\n",
        "ee.Authenticate()\n",
        "\n",
        "# Get other packages\n",
        "import matplotlib.pyplot as plt\n",
        "from IPython.display import Image\n",
        "import pprint\n",
        "import folium"
      ],
      "execution_count": 1,
      "outputs": [
        {
          "output_type": "stream",
          "text": [
            "To authorize access needed by Earth Engine, open the following URL in a web browser and follow the instructions. If the web browser does not start automatically, please manually browse the URL below.\n",
            "\n",
            "    https://accounts.google.com/o/oauth2/auth?client_id=517222506229-vsmmajv00ul0bs7p89v5m89qs8eb9359.apps.googleusercontent.com&scope=https%3A%2F%2Fwww.googleapis.com%2Fauth%2Fearthengine+https%3A%2F%2Fwww.googleapis.com%2Fauth%2Fdevstorage.full_control&redirect_uri=urn%3Aietf%3Awg%3Aoauth%3A2.0%3Aoob&response_type=code\n",
            "\n",
            "The authorization workflow will generate a code, which you should paste in the box below. \n",
            "Enter verification code: 4/swGhyI10Zg61ZVmwSaoWf6B7HrTECh26JtmebPdsA6d8a0moYACqsTo\n",
            "\n",
            "Successfully saved authorization token.\n"
          ],
          "name": "stdout"
        }
      ]
    },
    {
      "cell_type": "code",
      "metadata": {
        "id": "AFSiSqVGGb6X",
        "colab_type": "code",
        "colab": {}
      },
      "source": [
        "# Download a Landsat image based on some parameters\n",
        "\n",
        "# LANDSAT/LT05/C01/T1_SR meaning:\n",
        "# Look into the ImageCollections of Landsat. \n",
        "# In our case use Landsat 5 sensors. \n",
        "# USGS processes them in 'collections', with collection 1 (C01) as the only option.\n",
        "# To get the surface reflectane datasat for collection 1, use T1_SR (tier 1)"
      ],
      "execution_count": 0,
      "outputs": []
    },
    {
      "cell_type": "code",
      "metadata": {
        "id": "AqulpatXnIny",
        "colab_type": "code",
        "colab": {}
      },
      "source": [
        "\n",
        "                      "
      ],
      "execution_count": 0,
      "outputs": []
    },
    {
      "cell_type": "code",
      "metadata": {
        "id": "gcQVDkgKrPvd",
        "colab_type": "code",
        "colab": {}
      },
      "source": [
        "# Set AOI for imagery\n",
        "aoi = ee.Geometry.Rectangle([26.92, 14.24, 27.14, 14.58])\n",
        "\n",
        "RGBcollection = ee.ImageCollection('LANDSAT/LT05/C01/T1_SR').filterDate('1995-01-10', '1995-01-30').filterBounds(aoi).filterMetadata('IMAGE_QUALITY', 'equals', 9).filterMetadata('CLOUD_COVER_LAND', 'equals', 0).select(['B4', 'B3', 'B2'])\n",
        "RGBlistOfImages = collection.toList(collection.size());"
      ],
      "execution_count": 0,
      "outputs": []
    },
    {
      "cell_type": "code",
      "metadata": {
        "id": "tRJErRK6sHCz",
        "colab_type": "code",
        "colab": {}
      },
      "source": [
        "RGBlistOfImages.getInfo()\n",
        "\n",
        "RGBscene = collection.sort('CLOUD COVER').first()"
      ],
      "execution_count": 0,
      "outputs": []
    },
    {
      "cell_type": "code",
      "metadata": {
        "id": "T1qtLS0Vl_If",
        "colab_type": "code",
        "colab": {}
      },
      "source": [
        "collection = ee.ImageCollection('LANDSAT/LT05/C01/T1_SR').filterDate('1995-01-10', '1995-01-30').filterBounds(aoi).filterMetadata('IMAGE_QUALITY', 'equals', 9).filterMetadata('CLOUD_COVER_LAND', 'equals', 0)\n",
        "scene = collection.sort('CLOUD COVER').first()\n"
      ],
      "execution_count": 0,
      "outputs": []
    },
    {
      "cell_type": "code",
      "metadata": {
        "id": "SPFHyz3zt6vB",
        "colab_type": "code",
        "colab": {
          "base_uri": "https://localhost:8080/",
          "height": 498
        },
        "outputId": "88b8353d-03c1-4d81-9e53-08366efbd155"
      },
      "source": [
        "sceneUrl = scene.getThumbUrl()\n",
        "Image(url=sceneUrl)\n",
        "\n"
      ],
      "execution_count": 112,
      "outputs": [
        {
          "output_type": "execute_result",
          "data": {
            "text/html": [
              "<img src=\"https://earthengine.googleapis.com/api/thumb?thumbid=f10395d94c403b0aa1234ecb2e48a9d7&token=0ff06bf39c8de945435062cb2e6f7932\"/>"
            ],
            "text/plain": [
              "<IPython.core.display.Image object>"
            ]
          },
          "metadata": {
            "tags": []
          },
          "execution_count": 112
        }
      ]
    },
    {
      "cell_type": "code",
      "metadata": {
        "id": "g3m1H4W7j23T",
        "colab_type": "code",
        "colab": {
          "base_uri": "https://localhost:8080/",
          "height": 1000
        },
        "outputId": "4300a848-6e8c-4ea2-8322-6419140e58e7"
      },
      "source": [
        "from folium import plugins\n",
        "\n",
        "\n",
        "map = folium.Map(location=[27.05, 14.45], zoom_start=10, height=500)\n",
        "\n",
        "folium.raster_layers.ImageOverlay(\n",
        "    image=sceneUrl,\n",
        "    bounds=[[26.92, 14.24], [27.14, 14.58]],\n",
        "    colormap=lambda x: (1, 0, x, x),#R,G,B,alpha\n",
        ").add_to(map)\n",
        "map.add_child(folium.LayerControl())\n",
        "map"
      ],
      "execution_count": 111,
      "outputs": [
        {
          "output_type": "execute_result",
          "data": {
            "text/html": [
              "<div style=\"width:100%;\"><div style=\"position:relative;width:100%;height:0;padding-bottom:60%;\"><iframe src=\"data:text/html;charset=utf-8;base64,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\" style=\"position:absolute;width:100%;height:100%;left:0;top:0;border:none !important;\" allowfullscreen webkitallowfullscreen mozallowfullscreen></iframe></div></div>"
            ],
            "text/plain": [
              "<folium.folium.Map at 0x7f7ea49da6a0>"
            ]
          },
          "metadata": {
            "tags": []
          },
          "execution_count": 111
        }
      ]
    },
    {
      "cell_type": "code",
      "metadata": {
        "id": "QrwABYzrioyl",
        "colab_type": "code",
        "colab": {
          "base_uri": "https://localhost:8080/",
          "height": 375
        },
        "outputId": "40ae6989-f8f4-4fd5-c18b-809bd4d0d623"
      },
      "source": [
        "# Define a method for displaying Earth Engine image tiles to folium map.\n",
        "def add_ee_layer(self, eeImageObject, visParams, name):\n",
        "  mapID = ee.Image(eeImageObject).getMapId(visParams)\n",
        "  folium.raster_layers.TileLayer(\n",
        "    tiles = \"https://earthengine.googleapis.com/map/\"+mapID['mapid']+\n",
        "      \"/{z}/{x}/{y}?token=\"+mapID['token'],\n",
        "    attr = \"Map Data &copy; <a href='https://earthengine.google.com/'>Google Earth Engine</a>\",\n",
        "    name = name,\n",
        "    overlay = True,\n",
        "    control = True\n",
        "  ).add_to(self)\n",
        "\n",
        "# Add EE drawing method to folium.\n",
        "folium.Map.add_ee_layer = add_ee_layer\n",
        "\n",
        "# Set visualization parameters.\n",
        "visParams = {'min':0, 'max':3000}\n",
        "\n",
        "# Create a folium map object.\n",
        "myMap = folium.Map(location=[27.05, 14.45], zoom_start=10, height=500)\n",
        "\n",
        "# Add the elevation model to the map object.\n",
        "myMap.add_ee_layer(sceneUrl, visParams, 'DEM')\n",
        "\n",
        "# Add a layer control panel to the map.\n",
        "myMap.add_child(folium.LayerControl())\n",
        "\n",
        "# Display the map.\n",
        "display(myMap)"
      ],
      "execution_count": 113,
      "outputs": [
        {
          "output_type": "error",
          "ename": "EEException",
          "evalue": "ignored",
          "traceback": [
            "\u001b[0;31m---------------------------------------------------------------------------\u001b[0m",
            "\u001b[0;31mEEException\u001b[0m                               Traceback (most recent call last)",
            "\u001b[0;32m<ipython-input-113-4fda25a94f05>\u001b[0m in \u001b[0;36m<module>\u001b[0;34m()\u001b[0m\n\u001b[1;32m     20\u001b[0m \u001b[0;34m\u001b[0m\u001b[0m\n\u001b[1;32m     21\u001b[0m \u001b[0;31m# Add the elevation model to the map object.\u001b[0m\u001b[0;34m\u001b[0m\u001b[0;34m\u001b[0m\u001b[0;34m\u001b[0m\u001b[0m\n\u001b[0;32m---> 22\u001b[0;31m \u001b[0mmyMap\u001b[0m\u001b[0;34m.\u001b[0m\u001b[0madd_ee_layer\u001b[0m\u001b[0;34m(\u001b[0m\u001b[0msceneUrl\u001b[0m\u001b[0;34m,\u001b[0m \u001b[0mvisParams\u001b[0m\u001b[0;34m,\u001b[0m \u001b[0;34m'DEM'\u001b[0m\u001b[0;34m)\u001b[0m\u001b[0;34m\u001b[0m\u001b[0;34m\u001b[0m\u001b[0m\n\u001b[0m\u001b[1;32m     23\u001b[0m \u001b[0;34m\u001b[0m\u001b[0m\n\u001b[1;32m     24\u001b[0m \u001b[0;31m# Add a layer control panel to the map.\u001b[0m\u001b[0;34m\u001b[0m\u001b[0;34m\u001b[0m\u001b[0;34m\u001b[0m\u001b[0m\n",
            "\u001b[0;32m<ipython-input-113-4fda25a94f05>\u001b[0m in \u001b[0;36madd_ee_layer\u001b[0;34m(self, eeImageObject, visParams, name)\u001b[0m\n\u001b[1;32m      1\u001b[0m \u001b[0;32mdef\u001b[0m \u001b[0madd_ee_layer\u001b[0m\u001b[0;34m(\u001b[0m\u001b[0mself\u001b[0m\u001b[0;34m,\u001b[0m \u001b[0meeImageObject\u001b[0m\u001b[0;34m,\u001b[0m \u001b[0mvisParams\u001b[0m\u001b[0;34m,\u001b[0m \u001b[0mname\u001b[0m\u001b[0;34m)\u001b[0m\u001b[0;34m:\u001b[0m\u001b[0;34m\u001b[0m\u001b[0;34m\u001b[0m\u001b[0m\n\u001b[0;32m----> 2\u001b[0;31m   \u001b[0mmapID\u001b[0m \u001b[0;34m=\u001b[0m \u001b[0mee\u001b[0m\u001b[0;34m.\u001b[0m\u001b[0mImage\u001b[0m\u001b[0;34m(\u001b[0m\u001b[0meeImageObject\u001b[0m\u001b[0;34m)\u001b[0m\u001b[0;34m.\u001b[0m\u001b[0mgetMapId\u001b[0m\u001b[0;34m(\u001b[0m\u001b[0mvisParams\u001b[0m\u001b[0;34m)\u001b[0m\u001b[0;34m\u001b[0m\u001b[0;34m\u001b[0m\u001b[0m\n\u001b[0m\u001b[1;32m      3\u001b[0m   folium.raster_layers.TileLayer(\n\u001b[1;32m      4\u001b[0m     \u001b[0mtiles\u001b[0m \u001b[0;34m=\u001b[0m \u001b[0;34m\"https://earthengine.googleapis.com/map/\"\u001b[0m\u001b[0;34m+\u001b[0m\u001b[0mmapID\u001b[0m\u001b[0;34m[\u001b[0m\u001b[0;34m'mapid'\u001b[0m\u001b[0;34m]\u001b[0m\u001b[0;34m+\u001b[0m\u001b[0;34m\u001b[0m\u001b[0;34m\u001b[0m\u001b[0m\n\u001b[1;32m      5\u001b[0m       \u001b[0;34m\"/{z}/{x}/{y}?token=\"\u001b[0m\u001b[0;34m+\u001b[0m\u001b[0mmapID\u001b[0m\u001b[0;34m[\u001b[0m\u001b[0;34m'token'\u001b[0m\u001b[0;34m]\u001b[0m\u001b[0;34m,\u001b[0m\u001b[0;34m\u001b[0m\u001b[0;34m\u001b[0m\u001b[0m\n",
            "\u001b[0;32m/usr/local/lib/python3.6/dist-packages/ee/image.py\u001b[0m in \u001b[0;36mgetMapId\u001b[0;34m(self, vis_params)\u001b[0m\n\u001b[1;32m    129\u001b[0m     \u001b[0mvis_image\u001b[0m\u001b[0;34m,\u001b[0m \u001b[0mrequest\u001b[0m \u001b[0;34m=\u001b[0m \u001b[0mself\u001b[0m\u001b[0;34m.\u001b[0m\u001b[0m_apply_visualization\u001b[0m\u001b[0;34m(\u001b[0m\u001b[0mvis_params\u001b[0m\u001b[0;34m)\u001b[0m\u001b[0;34m\u001b[0m\u001b[0;34m\u001b[0m\u001b[0m\n\u001b[1;32m    130\u001b[0m     \u001b[0mrequest\u001b[0m\u001b[0;34m[\u001b[0m\u001b[0;34m'image'\u001b[0m\u001b[0;34m]\u001b[0m \u001b[0;34m=\u001b[0m \u001b[0mvis_image\u001b[0m\u001b[0;34m\u001b[0m\u001b[0;34m\u001b[0m\u001b[0m\n\u001b[0;32m--> 131\u001b[0;31m     \u001b[0mresponse\u001b[0m \u001b[0;34m=\u001b[0m \u001b[0mdata\u001b[0m\u001b[0;34m.\u001b[0m\u001b[0mgetMapId\u001b[0m\u001b[0;34m(\u001b[0m\u001b[0mrequest\u001b[0m\u001b[0;34m)\u001b[0m\u001b[0;34m\u001b[0m\u001b[0;34m\u001b[0m\u001b[0m\n\u001b[0m\u001b[1;32m    132\u001b[0m     \u001b[0mresponse\u001b[0m\u001b[0;34m[\u001b[0m\u001b[0;34m'image'\u001b[0m\u001b[0;34m]\u001b[0m \u001b[0;34m=\u001b[0m \u001b[0mself\u001b[0m\u001b[0;34m\u001b[0m\u001b[0;34m\u001b[0m\u001b[0m\n\u001b[1;32m    133\u001b[0m     \u001b[0;32mreturn\u001b[0m \u001b[0mresponse\u001b[0m\u001b[0;34m\u001b[0m\u001b[0;34m\u001b[0m\u001b[0m\n",
            "\u001b[0;32m/usr/local/lib/python3.6/dist-packages/ee/data.py\u001b[0m in \u001b[0;36mgetMapId\u001b[0;34m(params)\u001b[0m\n\u001b[1;32m    575\u001b[0m     \u001b[0mparams\u001b[0m\u001b[0;34m[\u001b[0m\u001b[0;34m'image'\u001b[0m\u001b[0;34m]\u001b[0m \u001b[0;34m=\u001b[0m \u001b[0mparams\u001b[0m\u001b[0;34m[\u001b[0m\u001b[0;34m'image'\u001b[0m\u001b[0;34m]\u001b[0m\u001b[0;34m.\u001b[0m\u001b[0mserialize\u001b[0m\u001b[0;34m(\u001b[0m\u001b[0;34m)\u001b[0m\u001b[0;34m\u001b[0m\u001b[0;34m\u001b[0m\u001b[0m\n\u001b[1;32m    576\u001b[0m   \u001b[0mparams\u001b[0m\u001b[0;34m[\u001b[0m\u001b[0;34m'json_format'\u001b[0m\u001b[0;34m]\u001b[0m \u001b[0;34m=\u001b[0m \u001b[0;34m'v2'\u001b[0m\u001b[0;34m\u001b[0m\u001b[0;34m\u001b[0m\u001b[0m\n\u001b[0;32m--> 577\u001b[0;31m   \u001b[0mresult\u001b[0m \u001b[0;34m=\u001b[0m \u001b[0msend_\u001b[0m\u001b[0;34m(\u001b[0m\u001b[0;34m'/mapid'\u001b[0m\u001b[0;34m,\u001b[0m \u001b[0mparams\u001b[0m\u001b[0;34m)\u001b[0m\u001b[0;34m\u001b[0m\u001b[0;34m\u001b[0m\u001b[0m\n\u001b[0m\u001b[1;32m    578\u001b[0m   url_format = '%s/map/%s/{z}/{x}/{y}?token=%s' % (\n\u001b[1;32m    579\u001b[0m       _tile_base_url, result['mapid'], result['token'])\n",
            "\u001b[0;32m/usr/local/lib/python3.6/dist-packages/ee/data.py\u001b[0m in \u001b[0;36msend_\u001b[0;34m(path, params, opt_method, opt_raw)\u001b[0m\n\u001b[1;32m   1776\u001b[0m       \u001b[0;32mraise\u001b[0m \u001b[0mee_exception\u001b[0m\u001b[0;34m.\u001b[0m\u001b[0mEEException\u001b[0m\u001b[0;34m(\u001b[0m\u001b[0;34m'Invalid JSON: %s'\u001b[0m \u001b[0;34m%\u001b[0m \u001b[0mcontent\u001b[0m\u001b[0;34m)\u001b[0m\u001b[0;34m\u001b[0m\u001b[0;34m\u001b[0m\u001b[0m\n\u001b[1;32m   1777\u001b[0m     \u001b[0;32mif\u001b[0m \u001b[0;34m'error'\u001b[0m \u001b[0;32min\u001b[0m \u001b[0mjson_content\u001b[0m\u001b[0;34m:\u001b[0m\u001b[0;34m\u001b[0m\u001b[0;34m\u001b[0m\u001b[0m\n\u001b[0;32m-> 1778\u001b[0;31m       \u001b[0;32mraise\u001b[0m \u001b[0mee_exception\u001b[0m\u001b[0;34m.\u001b[0m\u001b[0mEEException\u001b[0m\u001b[0;34m(\u001b[0m\u001b[0mjson_content\u001b[0m\u001b[0;34m[\u001b[0m\u001b[0;34m'error'\u001b[0m\u001b[0;34m]\u001b[0m\u001b[0;34m[\u001b[0m\u001b[0;34m'message'\u001b[0m\u001b[0;34m]\u001b[0m\u001b[0;34m)\u001b[0m\u001b[0;34m\u001b[0m\u001b[0;34m\u001b[0m\u001b[0m\n\u001b[0m\u001b[1;32m   1779\u001b[0m     \u001b[0;32mif\u001b[0m \u001b[0;34m'data'\u001b[0m \u001b[0;32mnot\u001b[0m \u001b[0;32min\u001b[0m \u001b[0mcontent\u001b[0m\u001b[0;34m:\u001b[0m\u001b[0;34m\u001b[0m\u001b[0;34m\u001b[0m\u001b[0m\n\u001b[1;32m   1780\u001b[0m       \u001b[0;32mraise\u001b[0m \u001b[0mee_exception\u001b[0m\u001b[0;34m.\u001b[0m\u001b[0mEEException\u001b[0m\u001b[0;34m(\u001b[0m\u001b[0;34m'Malformed response: '\u001b[0m \u001b[0;34m+\u001b[0m \u001b[0mstr\u001b[0m\u001b[0;34m(\u001b[0m\u001b[0mcontent\u001b[0m\u001b[0;34m)\u001b[0m\u001b[0;34m)\u001b[0m\u001b[0;34m\u001b[0m\u001b[0;34m\u001b[0m\u001b[0m\n",
            "\u001b[0;31mEEException\u001b[0m: Image.load: Image asset 'https://earthengine.googleapis.com/api/thumb?thumbid=f10395d94c403b0aa1234ecb2e48a9d7&token=0ff06bf39c8de945435062cb2e6f7932' not found."
          ]
        }
      ]
    },
    {
      "cell_type": "code",
      "metadata": {
        "id": "OWTSZAtRhIF0",
        "colab_type": "code",
        "colab": {}
      },
      "source": [
        "mapid = scene.getMapId({'bands': ['B4', 'B3', 'B2'], 'min': 0, 'max': 0.3})"
      ],
      "execution_count": 0,
      "outputs": []
    },
    {
      "cell_type": "code",
      "metadata": {
        "id": "aVttpARkdG66",
        "colab_type": "code",
        "colab": {
          "base_uri": "https://localhost:8080/",
          "height": 1000
        },
        "outputId": "f401f21e-6454-4bd4-97ca-1ac62924ef0c"
      },
      "source": [
        "m = folium.Map(location=[27.05, 14.45], tiles = \"Stamen Terrain\", width = '30%', height = '50%', zoom_start = 12)\n",
        "m.add_child(folium.raster_layers.ImageOverlay(sceneUrl, opacity=.7, bounds=[[26.92, 14.24], [27.14, 14.58]]))\n",
        "\n",
        "m\n",
        "\n",
        "\n",
        "\n"
      ],
      "execution_count": 114,
      "outputs": [
        {
          "output_type": "execute_result",
          "data": {
            "text/html": [
              "<div style=\"width:100%;\"><div style=\"position:relative;width:100%;height:0;padding-bottom:60%;\"><iframe src=\"data:text/html;charset=utf-8;base64,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\" style=\"position:absolute;width:100%;height:100%;left:0;top:0;border:none !important;\" allowfullscreen webkitallowfullscreen mozallowfullscreen></iframe></div></div>"
            ],
            "text/plain": [
              "<folium.folium.Map at 0x7f7ea48d9dd8>"
            ]
          },
          "metadata": {
            "tags": []
          },
          "execution_count": 114
        }
      ]
    },
    {
      "cell_type": "code",
      "metadata": {
        "id": "Wf1KKX0QmJsg",
        "colab_type": "code",
        "colab": {
          "base_uri": "https://localhost:8080/",
          "height": 1000
        },
        "outputId": "8864252e-d2d3-4e04-eba8-50e93cfa83e8"
      },
      "source": [
        "scene.getInfo()\n"
      ],
      "execution_count": 120,
      "outputs": [
        {
          "output_type": "execute_result",
          "data": {
            "text/plain": [
              "{'bands': [{'crs': 'EPSG:32635',\n",
              "   'crs_transform': [30.0, 0.0, 338685.0, 0.0, -30.0, 1701915.0],\n",
              "   'data_type': {'max': 32767,\n",
              "    'min': -32768,\n",
              "    'precision': 'int',\n",
              "    'type': 'PixelType'},\n",
              "   'dimensions': [7781, 6991],\n",
              "   'id': 'B1'},\n",
              "  {'crs': 'EPSG:32635',\n",
              "   'crs_transform': [30.0, 0.0, 338685.0, 0.0, -30.0, 1701915.0],\n",
              "   'data_type': {'max': 32767,\n",
              "    'min': -32768,\n",
              "    'precision': 'int',\n",
              "    'type': 'PixelType'},\n",
              "   'dimensions': [7781, 6991],\n",
              "   'id': 'B2'},\n",
              "  {'crs': 'EPSG:32635',\n",
              "   'crs_transform': [30.0, 0.0, 338685.0, 0.0, -30.0, 1701915.0],\n",
              "   'data_type': {'max': 32767,\n",
              "    'min': -32768,\n",
              "    'precision': 'int',\n",
              "    'type': 'PixelType'},\n",
              "   'dimensions': [7781, 6991],\n",
              "   'id': 'B3'},\n",
              "  {'crs': 'EPSG:32635',\n",
              "   'crs_transform': [30.0, 0.0, 338685.0, 0.0, -30.0, 1701915.0],\n",
              "   'data_type': {'max': 32767,\n",
              "    'min': -32768,\n",
              "    'precision': 'int',\n",
              "    'type': 'PixelType'},\n",
              "   'dimensions': [7781, 6991],\n",
              "   'id': 'B4'},\n",
              "  {'crs': 'EPSG:32635',\n",
              "   'crs_transform': [30.0, 0.0, 338685.0, 0.0, -30.0, 1701915.0],\n",
              "   'data_type': {'max': 32767,\n",
              "    'min': -32768,\n",
              "    'precision': 'int',\n",
              "    'type': 'PixelType'},\n",
              "   'dimensions': [7781, 6991],\n",
              "   'id': 'B5'},\n",
              "  {'crs': 'EPSG:32635',\n",
              "   'crs_transform': [30.0, 0.0, 338685.0, 0.0, -30.0, 1701915.0],\n",
              "   'data_type': {'max': 32767,\n",
              "    'min': -32768,\n",
              "    'precision': 'int',\n",
              "    'type': 'PixelType'},\n",
              "   'dimensions': [7781, 6991],\n",
              "   'id': 'B6'},\n",
              "  {'crs': 'EPSG:32635',\n",
              "   'crs_transform': [30.0, 0.0, 338685.0, 0.0, -30.0, 1701915.0],\n",
              "   'data_type': {'max': 32767,\n",
              "    'min': -32768,\n",
              "    'precision': 'int',\n",
              "    'type': 'PixelType'},\n",
              "   'dimensions': [7781, 6991],\n",
              "   'id': 'B7'},\n",
              "  {'crs': 'EPSG:32635',\n",
              "   'crs_transform': [30.0, 0.0, 338685.0, 0.0, -30.0, 1701915.0],\n",
              "   'data_type': {'max': 32767,\n",
              "    'min': -32768,\n",
              "    'precision': 'int',\n",
              "    'type': 'PixelType'},\n",
              "   'dimensions': [7781, 6991],\n",
              "   'id': 'sr_atmos_opacity'},\n",
              "  {'crs': 'EPSG:32635',\n",
              "   'crs_transform': [30.0, 0.0, 338685.0, 0.0, -30.0, 1701915.0],\n",
              "   'data_type': {'max': 255,\n",
              "    'min': 0,\n",
              "    'precision': 'int',\n",
              "    'type': 'PixelType'},\n",
              "   'dimensions': [7781, 6991],\n",
              "   'id': 'sr_cloud_qa'},\n",
              "  {'crs': 'EPSG:32635',\n",
              "   'crs_transform': [30.0, 0.0, 338685.0, 0.0, -30.0, 1701915.0],\n",
              "   'data_type': {'max': 65535,\n",
              "    'min': 0,\n",
              "    'precision': 'int',\n",
              "    'type': 'PixelType'},\n",
              "   'dimensions': [7781, 6991],\n",
              "   'id': 'pixel_qa'},\n",
              "  {'crs': 'EPSG:32635',\n",
              "   'crs_transform': [30.0, 0.0, 338685.0, 0.0, -30.0, 1701915.0],\n",
              "   'data_type': {'max': 255,\n",
              "    'min': 0,\n",
              "    'precision': 'int',\n",
              "    'type': 'PixelType'},\n",
              "   'dimensions': [7781, 6991],\n",
              "   'id': 'radsat_qa'}],\n",
              " 'id': 'LANDSAT/LT05/C01/T1_SR/LT05_177050_19950113',\n",
              " 'properties': {'CLOUD_COVER': 0.0,\n",
              "  'CLOUD_COVER_LAND': 0.0,\n",
              "  'EARTH_SUN_DISTANCE': 0.983523,\n",
              "  'ESPA_VERSION': '2_19_0c',\n",
              "  'GEOMETRIC_RMSE_MODEL': 4.314,\n",
              "  'GEOMETRIC_RMSE_MODEL_X': 2.699,\n",
              "  'GEOMETRIC_RMSE_MODEL_Y': 3.365,\n",
              "  'IMAGE_QUALITY': 9.0,\n",
              "  'LANDSAT_ID': 'LT05_L1TP_177050_19950113_20170110_01_T1',\n",
              "  'LEVEL1_PRODUCTION_DATE': 1484024860000.0,\n",
              "  'PIXEL_QA_VERSION': 'generate_pixel_qa_1.5.0',\n",
              "  'SATELLITE': 'LANDSAT_5',\n",
              "  'SENSING_TIME': '1995-01-13T07:47:04.5830500Z',\n",
              "  'SOLAR_AZIMUTH_ANGLE': 132.629852,\n",
              "  'SOLAR_ZENITH_ANGLE': 52.376583,\n",
              "  'SR_APP_VERSION': 'LEDAPS_3.2.0',\n",
              "  'WRS_PATH': 177.0,\n",
              "  'WRS_ROW': 50.0,\n",
              "  'system:asset_size': 297677807,\n",
              "  'system:footprint': {'coordinates': [[25.55743128621575, 13.759705512903887],\n",
              "    [26.010551945608633, 13.69537265826972],\n",
              "    [27.250260254281873, 13.515010482413244],\n",
              "    [27.252788135225494, 13.523633987230438],\n",
              "    [27.280379792439312, 13.645682708307293],\n",
              "    [27.312746427319162, 13.789684699669236],\n",
              "    [27.403934081307327, 14.19534832351008],\n",
              "    [27.561122253802246, 14.89726213171819],\n",
              "    [27.599293439166036, 15.068142470900066],\n",
              "    [27.613862328448516, 15.134979994628537],\n",
              "    [27.39998077302231, 15.166660776729506],\n",
              "    [26.913672454467047, 15.237842347542474],\n",
              "    [25.91150562260253, 15.381020177146334],\n",
              "    [25.90703142485395, 15.379133723942115],\n",
              "    [25.903267510337677, 15.36893007937422],\n",
              "    [25.851853702228134, 15.13383272224569],\n",
              "    [25.719355255768523, 14.523097190303435],\n",
              "    [25.581631950044674, 13.885324696884535],\n",
              "    [25.56343195119986, 13.799087842056165],\n",
              "    [25.5563240203971, 13.763236371528853],\n",
              "    [25.55743128621575, 13.759705512903887]],\n",
              "   'type': 'LinearRing'},\n",
              "  'system:index': 'LT05_177050_19950113',\n",
              "  'system:time_start': 789983224583.0},\n",
              " 'type': 'Image',\n",
              " 'version': 1538942377068352}"
            ]
          },
          "metadata": {
            "tags": []
          },
          "execution_count": 120
        }
      ]
    },
    {
      "cell_type": "code",
      "metadata": {
        "id": "SdOYF7FdnRH1",
        "colab_type": "code",
        "colab": {}
      },
      "source": [
        "# Export the image, specifying scale and region.\n",
        "##Export.image.toDrive({image: scene, description: 'imageToDriveExample', scale: 30, region: aoi});\n",
        "\n",
        "task_config = {\n",
        "    'scale': 30,\n",
        "    'fileFormat': 'GeoTIFF',\n",
        "    'skipEmptyTiles': True,\n",
        "    'folder': 'testolder'\n",
        "    }\n",
        "\n",
        "task = ee.batch.Export.image.toDrive(scene, 'first test', **task_config)\n",
        "\n",
        "task.start()"
      ],
      "execution_count": 0,
      "outputs": []
    }
  ]
}